{
 "cells": [
  {
   "cell_type": "markdown",
   "metadata": {},
   "source": [
    "Hermite's Equation (1) $$y''-2xy'+2py=0$$\n",
    "Legendre's Equation (2) $$(1-x^2)y''-2xy'+p(p+1)y=0$$\n",
    "Chebyshev's Equation (3) $$(1-x^2)y''-xy'+p^2y=0$$"
   ]
  },
  {
   "cell_type": "markdown",
   "metadata": {},
   "source": [
    "All of these equations have ordinary points at $x_o=0$ and have power series of the form $$y=\\Sigma_0^\\infty{a_nx^n}$$\n",
    "\n",
    "To show this, the following are the needed derivatives of y $$y'=\\Sigma_1^\\infty{na_nx^{n-1}}=\\Sigma_0^\\infty{(n+1)a_{n+1}x^n}$$ \n",
    "$$y''=\\Sigma_2^\\infty{n(n-1)a_nx^{n-2}}=\\Sigma_1^\\infty{n(n+1)a_{n+1}x^{n-1}}=\\Sigma_0^\\infty{(n+2)(n-1)a_{n+2}x^{n}}$$ \n",
    "\n",
    "We will designate the difference in these by using yd1, yd0, ydd2, ydd1, ydd0 based on their starting points, respectively."
   ]
  },
  {
   "cell_type": "markdown",
   "metadata": {},
   "source": [
    "1. By first setting $a_0=1$ and $a_1=0$ and then setting $a_0=0$ and $a_1=1$, and a pair of independent solutions to equations (1), (2), and (3) for $p=0,1,2,3$."
   ]
  },
  {
   "cell_type": "code",
   "execution_count": 201,
   "metadata": {},
   "outputs": [],
   "source": [
    "x=var('x')\n",
    "an,n=var('an,n')\n",
    "an1=var('an1') #this is a_n+1\n",
    "an2=var('an2')# this is a_n+2\n",
    "\n",
    "y=an*x^n\n",
    "yd1=n*an*x^(n-1)\n",
    "yd0=(n+1)*an1*x^n\n",
    "ydd2=n*(n-1)*an*x^(n-2)\n",
    "ydd1=n*(n+1)*an1*x^(n-1)\n",
    "ydd0=(n+2)*(n+1)*an2*x^n"
   ]
  },
  {
   "cell_type": "markdown",
   "metadata": {},
   "source": [
    "Equation (1): With $a_0=1$, $a_1=0$, and $p=0$. So $$y''-2xy'=0$$"
   ]
  },
  {
   "cell_type": "code",
   "execution_count": 240,
   "metadata": {},
   "outputs": [
    {
     "data": {
      "text/plain": [
       "[an2 == 2*an*n/(n^2 + 3*n + 2)]"
      ]
     },
     "execution_count": 240,
     "metadata": {},
     "output_type": "execute_result"
    }
   ],
   "source": [
    "solve([ydd0-2*x*yd1==0],an2)"
   ]
  },
  {
   "cell_type": "code",
   "execution_count": 109,
   "metadata": {},
   "outputs": [
    {
     "data": {
      "text/html": [
       "<html><script type=\"math/tex; mode=display\">\\newcommand{\\Bold}[1]{\\mathbf{#1}}\\left[1, 0, 0, 0, 0, 0, 0, 0, 0, 0, 0, 0\\right]</script></html>"
      ],
      "text/plain": [
       "[1, 0, 0, 0, 0, 0, 0, 0, 0, 0, 0, 0]"
      ]
     },
     "metadata": {},
     "output_type": "display_data"
    }
   ],
   "source": [
    "#a0=1,a1=0,p=0\n",
    "def coef(an,n):\n",
    "    return(2*an*n/(n^2 + 3*n + 2))\n",
    "a_nlist=[1,0] #a_0=1, a_1=0\n",
    "for i in range (0,10):\n",
    "    new=coef(a_nlist[i],i)\n",
    "    a_nlist.append(new)\n",
    "    \n",
    "show(a_nlist)"
   ]
  },
  {
   "cell_type": "markdown",
   "metadata": {},
   "source": [
    "   So based on the a_nlist above, the solution is $y=1$ when $a_0=1$, $a_1=0$."
   ]
  },
  {
   "cell_type": "markdown",
   "metadata": {},
   "source": [
    "Equation (1): With $a_0=0$, $a_1=1$, and $p=0$. So $y''-2xy'=0$"
   ]
  },
  {
   "cell_type": "code",
   "execution_count": 111,
   "metadata": {},
   "outputs": [
    {
     "data": {
      "text/html": [
       "<html><script type=\"math/tex; mode=display\">\\newcommand{\\Bold}[1]{\\mathbf{#1}}\\left[0, 1, 0, \\frac{1}{3}, 0, \\frac{1}{10}, 0, \\frac{1}{42}, 0, \\frac{1}{216}, 0, \\frac{1}{1320}\\right]</script></html>"
      ],
      "text/plain": [
       "[0, 1, 0, 1/3, 0, 1/10, 0, 1/42, 0, 1/216, 0, 1/1320]"
      ]
     },
     "metadata": {},
     "output_type": "display_data"
    }
   ],
   "source": [
    "#a0=0,a1=1,p=0\n",
    "def coef(an,n):\n",
    "    return((2*an*n/(n^2 + 3*n + 2)))\n",
    "a_nlist=[0,1] #a_0=0, a_1=1\n",
    "for i in range (0,10):\n",
    "    new=coef(a_nlist[i],i)\n",
    "    a_nlist.append(new)\n",
    "    \n",
    "show(a_nlist)"
   ]
  },
  {
   "cell_type": "markdown",
   "metadata": {},
   "source": [
    "To find how the series was made I completely factored each denominator and found the commonalities between them.\n",
    "Based on the above, the series solution was found to be $$y=\\Sigma_0^\\infty{\\frac{x^{2n+1}}{n!(2n+1)}}$$"
   ]
  },
  {
   "cell_type": "markdown",
   "metadata": {},
   "source": [
    "Equation (1): With $a_0=1$, $a_1=0$, and $p=1$. So $$y''-2xy'+2(1)y=0$$"
   ]
  },
  {
   "cell_type": "code",
   "execution_count": 124,
   "metadata": {},
   "outputs": [
    {
     "data": {
      "text/plain": [
       "[an2 == 2*(an*n - an)/(n^2 + 3*n + 2)]"
      ]
     },
     "execution_count": 124,
     "metadata": {},
     "output_type": "execute_result"
    }
   ],
   "source": [
    "n=var('n')\n",
    "an2=var('an2')\n",
    "\n",
    "solve([ydd0-2*x*yd1+2*1*y],an2)"
   ]
  },
  {
   "cell_type": "code",
   "execution_count": 118,
   "metadata": {},
   "outputs": [
    {
     "data": {
      "text/html": [
       "<html><script type=\"math/tex; mode=display\">\\newcommand{\\Bold}[1]{\\mathbf{#1}}\\left[1, 0, -1, 0, -\\frac{1}{6}, 0, -\\frac{1}{30}, 0, -\\frac{1}{168}, 0, -\\frac{1}{1080}, 0\\right]</script></html>"
      ],
      "text/plain": [
       "[1, 0, -1, 0, -1/6, 0, -1/30, 0, -1/168, 0, -1/1080, 0]"
      ]
     },
     "metadata": {},
     "output_type": "display_data"
    }
   ],
   "source": [
    "#a0=1,a1=0,p=1\n",
    "def coef(an,n):\n",
    "    return(2*(an*n - an)/(n^2 + 3*n + 2))\n",
    "a_nlist=[1,0] #a_0=1, a_1=0\n",
    "for i in range (0,10):\n",
    "    new=coef(a_nlist[i],i)\n",
    "    a_nlist.append(new)\n",
    "    \n",
    "show(a_nlist)"
   ]
  },
  {
   "cell_type": "markdown",
   "metadata": {},
   "source": [
    "To find how the series was made I completely factored each denominator and found the commonalities between them.\n",
    "\n",
    "Based on the above the series solution was found to be $$1+\\Sigma_1^\\infty{\\frac{-(x^{2n})}{n!(2n-1)}}$$"
   ]
  },
  {
   "cell_type": "code",
   "execution_count": 105,
   "metadata": {
    "scrolled": true
   },
   "outputs": [
    {
     "data": {
      "text/html": [
       "<html><script type=\"math/tex; mode=display\">\\newcommand{\\Bold}[1]{\\mathbf{#1}}\\left[0, 1, 0, 0, 0, 0, 0, 0, 0, 0, 0, 0\\right]</script></html>"
      ],
      "text/plain": [
       "[0, 1, 0, 0, 0, 0, 0, 0, 0, 0, 0, 0]"
      ]
     },
     "metadata": {},
     "output_type": "display_data"
    }
   ],
   "source": [
    "#a0=0,a1=1,p=1\n",
    "def coef(an,n):\n",
    "    return(2*(an*n - an)/(n^2 + 3*n + 2))\n",
    "a_nlist=[0,1] #a_0=0, a_1=1\n",
    "for i in range (0,10):\n",
    "    new=coef(a_nlist[i],i)\n",
    "    a_nlist.append(new)\n",
    "    \n",
    "show(a_nlist)"
   ]
  },
  {
   "cell_type": "markdown",
   "metadata": {},
   "source": [
    "Based on the above the series solution was found to be $$y=x$$"
   ]
  },
  {
   "cell_type": "markdown",
   "metadata": {},
   "source": [
    "Equation (1): With $a_0=1$, $a_1=0$, and $p=2$. So $$y''-2xy'+2(2)y=0$$"
   ]
  },
  {
   "cell_type": "code",
   "execution_count": 125,
   "metadata": {},
   "outputs": [
    {
     "data": {
      "text/plain": [
       "[an2 == 2*(an*n - 2*an)/(n^2 + 3*n + 2)]"
      ]
     },
     "execution_count": 125,
     "metadata": {},
     "output_type": "execute_result"
    }
   ],
   "source": [
    "n=var('n')\n",
    "an2=var('an2')\n",
    "\n",
    "solve([ydd0-2*x*yd1+2*2*y],an2)"
   ]
  },
  {
   "cell_type": "code",
   "execution_count": 128,
   "metadata": {},
   "outputs": [
    {
     "data": {
      "text/html": [
       "<html><script type=\"math/tex; mode=display\">\\newcommand{\\Bold}[1]{\\mathbf{#1}}\\left[1, 0, -2, 0, 0, 0, 0, 0, 0, 0, 0, 0\\right]</script></html>"
      ],
      "text/plain": [
       "[1, 0, -2, 0, 0, 0, 0, 0, 0, 0, 0, 0]"
      ]
     },
     "metadata": {},
     "output_type": "display_data"
    }
   ],
   "source": [
    "#a0=1,a1=0,p=2\n",
    "def coef(an,n):\n",
    "    return(2*(an*n - 2*an)/(n^2 + 3*n + 2))\n",
    "a_nlist=[1,0] #a_0=1, a_1=0\n",
    "for i in range (0,10):\n",
    "    new=coef(a_nlist[i],i)\n",
    "    a_nlist.append(new)\n",
    "    \n",
    "show(a_nlist)"
   ]
  },
  {
   "cell_type": "markdown",
   "metadata": {},
   "source": [
    "Based on the above the series solution was found to be $$y=-2x^2+1$$"
   ]
  },
  {
   "cell_type": "markdown",
   "metadata": {},
   "source": [
    "Equation (1): With $a_0=0$, $a_1=1$, and $p=2$. So $$y''-2xy'+2(2)y=0$$"
   ]
  },
  {
   "cell_type": "code",
   "execution_count": 130,
   "metadata": {},
   "outputs": [
    {
     "data": {
      "text/html": [
       "<html><script type=\"math/tex; mode=display\">\\newcommand{\\Bold}[1]{\\mathbf{#1}}\\left[0, 1, 0, -\\frac{1}{3}, 0, -\\frac{1}{30}, 0, -\\frac{1}{210}, 0, -\\frac{1}{1512}, 0, -\\frac{1}{11880}\\right]</script></html>"
      ],
      "text/plain": [
       "[0, 1, 0, -1/3, 0, -1/30, 0, -1/210, 0, -1/1512, 0, -1/11880]"
      ]
     },
     "metadata": {},
     "output_type": "display_data"
    }
   ],
   "source": [
    "#a0=0,a1=1,p=2\n",
    "def coef(an,n):\n",
    "    return(2*(an*n - 2*an)/(n^2 + 3*n + 2))\n",
    "a_nlist=[0,1] #a_0=0, a_1=1\n",
    "for i in range (0,10):\n",
    "    new=coef(a_nlist[i],i)\n",
    "    a_nlist.append(new)\n",
    "    \n",
    "show(a_nlist)"
   ]
  },
  {
   "cell_type": "markdown",
   "metadata": {},
   "source": [
    "To find how the series was made I completely factored each denominator and found the commonalities between them.\n",
    "\n",
    "Based on the above, the series solution is $$y=\\Sigma_0^\\infty{\\frac{-(x^{2n+1})}{(2n+1)(2n-1)n!}}$$"
   ]
  },
  {
   "cell_type": "markdown",
   "metadata": {},
   "source": [
    "Equation (1): With $a_0=1$, $a_1=0$, and $p=3$. So $$y''-2xy'2(3)y=0$$"
   ]
  },
  {
   "cell_type": "code",
   "execution_count": 126,
   "metadata": {},
   "outputs": [
    {
     "data": {
      "text/plain": [
       "[an2 == 2*(an*n - 3*an)/(n^2 + 3*n + 2)]"
      ]
     },
     "execution_count": 126,
     "metadata": {},
     "output_type": "execute_result"
    }
   ],
   "source": [
    "n=var('n')\n",
    "an2=var('an2')\n",
    "\n",
    "solve([ydd0-2*x*yd1+2*3*y],an2)"
   ]
  },
  {
   "cell_type": "code",
   "execution_count": 137,
   "metadata": {},
   "outputs": [
    {
     "data": {
      "text/html": [
       "<html><script type=\"math/tex; mode=display\">\\newcommand{\\Bold}[1]{\\mathbf{#1}}\\left[1, 0, -3, 0, \\frac{1}{2}, 0, \\frac{1}{30}, 0, \\frac{1}{280}, 0, \\frac{1}{2520}, 0\\right]</script></html>"
      ],
      "text/plain": [
       "[1, 0, -3, 0, 1/2, 0, 1/30, 0, 1/280, 0, 1/2520, 0]"
      ]
     },
     "metadata": {},
     "output_type": "display_data"
    }
   ],
   "source": [
    "#a0=1,a1=0,p=3\n",
    "def coef(an,n):\n",
    "    return(2*(an*n - 3*an)/(n^2 + 3*n + 2))\n",
    "a_nlist=[1,0] #a_0=1, a_1=0\n",
    "for i in range (0,10):\n",
    "    new=coef(a_nlist[i],i)\n",
    "    a_nlist.append(new)\n",
    "    \n",
    "show(a_nlist)"
   ]
  },
  {
   "cell_type": "markdown",
   "metadata": {},
   "source": [
    "To find how the series was made I completely factored each denominator and found the commonalities between them.\n",
    "\n",
    "Based on the above, the series solution is $$y=\\Sigma_0^\\infty{\\frac{3(x^{2n})}{(2n-3)(2n-1)n!}}$$"
   ]
  },
  {
   "cell_type": "code",
   "execution_count": 138,
   "metadata": {},
   "outputs": [
    {
     "data": {
      "text/html": [
       "<html><script type=\"math/tex; mode=display\">\\newcommand{\\Bold}[1]{\\mathbf{#1}}\\left[0, 1, 0, -\\frac{2}{3}, 0, 0, 0, 0, 0, 0, 0, 0\\right]</script></html>"
      ],
      "text/plain": [
       "[0, 1, 0, -2/3, 0, 0, 0, 0, 0, 0, 0, 0]"
      ]
     },
     "metadata": {},
     "output_type": "display_data"
    }
   ],
   "source": [
    "#a0=0,a1=1,p=3\n",
    "def coef(an,n):\n",
    "    return(2*(an*n - 3*an)/(n^2 + 3*n + 2))\n",
    "a_nlist=[0,1] #a_0=0, a_1=1\n",
    "for i in range (0,10):\n",
    "    new=coef(a_nlist[i],i)\n",
    "    a_nlist.append(new)\n",
    "    \n",
    "show(a_nlist)"
   ]
  },
  {
   "cell_type": "markdown",
   "metadata": {},
   "source": [
    "This solution is found to be $$y=x-\\frac{2}{3}x^3$$\n",
    "\n",
    "This answer concludes Equation (1)"
   ]
  },
  {
   "cell_type": "markdown",
   "metadata": {},
   "source": [
    "Equation (2): $$(1-x^2)y''-2xy'+p(p+1)y=0$$ With $a_0=1$, $a_1=0$, and $p=0$. So $$(1-x^2)y''-2xy'=0$$ This is also: $$y''-x^2y''-2xy'=0$$"
   ]
  },
  {
   "cell_type": "code",
   "execution_count": 176,
   "metadata": {},
   "outputs": [
    {
     "data": {
      "text/plain": [
       "[an2 == an*n/(n + 2)]"
      ]
     },
     "execution_count": 176,
     "metadata": {},
     "output_type": "execute_result"
    }
   ],
   "source": [
    "n=var('n')\n",
    "an2=var('an2')\n",
    "\n",
    "solve([(ydd0-x^2*ydd2-2*x*yd1)],an2)"
   ]
  },
  {
   "cell_type": "code",
   "execution_count": 140,
   "metadata": {},
   "outputs": [
    {
     "data": {
      "text/html": [
       "<html><script type=\"math/tex; mode=display\">\\newcommand{\\Bold}[1]{\\mathbf{#1}}\\left[1, 0, 0, 0, 0, 0, 0, 0, 0, 0, 0, 0\\right]</script></html>"
      ],
      "text/plain": [
       "[1, 0, 0, 0, 0, 0, 0, 0, 0, 0, 0, 0]"
      ]
     },
     "metadata": {},
     "output_type": "display_data"
    }
   ],
   "source": [
    "#a0=1,a1=0,p=0\n",
    "def coef(an,n):\n",
    "    return(an*n/(n + 2))\n",
    "a_nlist=[1,0] #a_0=1, a_1=0\n",
    "for i in range (0,10):\n",
    "    new=coef(a_nlist[i],i)\n",
    "    a_nlist.append(new)\n",
    "    \n",
    "show(a_nlist)"
   ]
  },
  {
   "cell_type": "markdown",
   "metadata": {},
   "source": [
    "This solution is $$y=1$$"
   ]
  },
  {
   "cell_type": "code",
   "execution_count": 153,
   "metadata": {},
   "outputs": [
    {
     "data": {
      "text/html": [
       "<html><script type=\"math/tex; mode=display\">\\newcommand{\\Bold}[1]{\\mathbf{#1}}\\left[0, 1, 0, \\frac{1}{3}, 0, \\frac{1}{5}, 0, \\frac{1}{7}, 0, \\frac{1}{9}, 0, \\frac{1}{11}\\right]</script></html>"
      ],
      "text/plain": [
       "[0, 1, 0, 1/3, 0, 1/5, 0, 1/7, 0, 1/9, 0, 1/11]"
      ]
     },
     "metadata": {},
     "output_type": "display_data"
    }
   ],
   "source": [
    "#a0=0,a1=1,p=0\n",
    "def coef(an,n):\n",
    "    return(an*n/(n + 2))\n",
    "a_nlist=[0,1] #a_0=1, a_1=0\n",
    "for i in range (0,10):\n",
    "    new=coef(a_nlist[i],i)\n",
    "    a_nlist.append(new)\n",
    "    \n",
    "show(a_nlist)"
   ]
  },
  {
   "cell_type": "markdown",
   "metadata": {},
   "source": [
    "This solution is straight forward: $$y=\\Sigma_0^\\infty{\\frac{x^{2n+1}}{2n+1}}$$"
   ]
  },
  {
   "cell_type": "markdown",
   "metadata": {},
   "source": [
    "With $a_0=1$, $a_1=0$, and $p=1$. So $$y''-x^2y''-2xy'+1(1+1)y=0$$"
   ]
  },
  {
   "cell_type": "code",
   "execution_count": 149,
   "metadata": {},
   "outputs": [
    {
     "data": {
      "text/plain": [
       "[an2 == (an*n - an)/(n + 1)]"
      ]
     },
     "execution_count": 149,
     "metadata": {},
     "output_type": "execute_result"
    }
   ],
   "source": [
    "solve([(ydd0-x^2*ydd2-2*x*yd1+1*(1+1)*y)],an2)"
   ]
  },
  {
   "cell_type": "code",
   "execution_count": 148,
   "metadata": {},
   "outputs": [
    {
     "data": {
      "text/html": [
       "<html><script type=\"math/tex; mode=display\">\\newcommand{\\Bold}[1]{\\mathbf{#1}}\\left[1, 0, -1, 0, -\\frac{1}{3}, 0, -\\frac{1}{5}, 0, -\\frac{1}{7}, 0, -\\frac{1}{9}, 0\\right]</script></html>"
      ],
      "text/plain": [
       "[1, 0, -1, 0, -1/3, 0, -1/5, 0, -1/7, 0, -1/9, 0]"
      ]
     },
     "metadata": {},
     "output_type": "display_data"
    }
   ],
   "source": [
    "#a0=1,a1=0,p=1\n",
    "def coef(an,n):\n",
    "    return((an*n - an)/(n + 1))\n",
    "a_nlist=[1,0] #a_0=1, a_1=0\n",
    "for i in range (0,10):\n",
    "    new=coef(a_nlist[i],i)\n",
    "    a_nlist.append(new)\n",
    "    \n",
    "show(a_nlist)"
   ]
  },
  {
   "cell_type": "markdown",
   "metadata": {},
   "source": [
    "This solution is again, straight forward: $$y=\\Sigma_0^\\infty{\\frac{-(x^{2n})}{2n-1}}$$"
   ]
  },
  {
   "cell_type": "code",
   "execution_count": 146,
   "metadata": {},
   "outputs": [
    {
     "data": {
      "text/html": [
       "<html><script type=\"math/tex; mode=display\">\\newcommand{\\Bold}[1]{\\mathbf{#1}}\\left[0, 1, 0, 0, 0, 0, 0, 0, 0, 0, 0, 0\\right]</script></html>"
      ],
      "text/plain": [
       "[0, 1, 0, 0, 0, 0, 0, 0, 0, 0, 0, 0]"
      ]
     },
     "metadata": {},
     "output_type": "display_data"
    }
   ],
   "source": [
    "#a0=0,a1=1,p=1\n",
    "def coef(an,n):\n",
    "    return((an*n - an)/(n + 1))\n",
    "a_nlist=[0,1] #a_0=1, a_1=0\n",
    "for i in range (0,10):\n",
    "    new=coef(a_nlist[i],i)\n",
    "    a_nlist.append(new)\n",
    "    \n",
    "show(a_nlist)"
   ]
  },
  {
   "cell_type": "markdown",
   "metadata": {},
   "source": [
    "This solution is $$y=x$$"
   ]
  },
  {
   "cell_type": "markdown",
   "metadata": {},
   "source": [
    "With $a_0=1$, $a_1=0$, and $p=2$. So $$y''-x^2y''-2xy'+2(2+1)y=0$$"
   ]
  },
  {
   "cell_type": "code",
   "execution_count": 150,
   "metadata": {},
   "outputs": [
    {
     "data": {
      "text/plain": [
       "[an2 == (an*n^2 + an*n - 6*an)/(n^2 + 3*n + 2)]"
      ]
     },
     "execution_count": 150,
     "metadata": {},
     "output_type": "execute_result"
    }
   ],
   "source": [
    "solve([(ydd0-x^2*ydd2-2*x*yd1+2*(2+1)*y)],an2)"
   ]
  },
  {
   "cell_type": "code",
   "execution_count": 151,
   "metadata": {},
   "outputs": [
    {
     "data": {
      "text/html": [
       "<html><script type=\"math/tex; mode=display\">\\newcommand{\\Bold}[1]{\\mathbf{#1}}\\left[1, 0, -3, 0, 0, 0, 0, 0, 0, 0, 0, 0\\right]</script></html>"
      ],
      "text/plain": [
       "[1, 0, -3, 0, 0, 0, 0, 0, 0, 0, 0, 0]"
      ]
     },
     "metadata": {},
     "output_type": "display_data"
    }
   ],
   "source": [
    "#a0=1,a1=0,p=2\n",
    "def coef(an,n):\n",
    "    return((an*n^2 + an*n - 6*an)/(n^2 + 3*n + 2))\n",
    "a_nlist=[1,0] #a_0=1, a_1=0\n",
    "for i in range (0,10):\n",
    "    new=coef(a_nlist[i],i)\n",
    "    a_nlist.append(new)\n",
    "    \n",
    "show(a_nlist)"
   ]
  },
  {
   "cell_type": "markdown",
   "metadata": {},
   "source": [
    "This solution is $$y=-3x^2+1$$"
   ]
  },
  {
   "cell_type": "code",
   "execution_count": 154,
   "metadata": {},
   "outputs": [
    {
     "data": {
      "text/html": [
       "<html><script type=\"math/tex; mode=display\">\\newcommand{\\Bold}[1]{\\mathbf{#1}}\\left[0, 1, 0, -\\frac{2}{3}, 0, -\\frac{1}{5}, 0, -\\frac{4}{35}, 0, -\\frac{5}{63}, 0, -\\frac{2}{33}\\right]</script></html>"
      ],
      "text/plain": [
       "[0, 1, 0, -2/3, 0, -1/5, 0, -4/35, 0, -5/63, 0, -2/33]"
      ]
     },
     "metadata": {},
     "output_type": "display_data"
    }
   ],
   "source": [
    "#a0=0,a1=1,p=2\n",
    "def coef(an,n):\n",
    "    return((an*n^2 + an*n - 6*an)/(n^2 + 3*n + 2))\n",
    "a_nlist=[0,1] #a_0=1, a_1=0\n",
    "for i in range (0,10):\n",
    "    new=coef(a_nlist[i],i)\n",
    "    a_nlist.append(new)\n",
    "    \n",
    "show(a_nlist)"
   ]
  },
  {
   "cell_type": "markdown",
   "metadata": {},
   "source": [
    "This solution is more complex but when each piece is written out the solution was found to be:$$y=\\Sigma {x+\\frac{-4}{3!}x^3+\\frac{-24}{5!}x^5+\\frac{-576}{7!}x^7+\\frac{-28800}{9!}x^9+\\frac{-2419200}{11!}x^{11}+...}$$\n"
   ]
  },
  {
   "cell_type": "markdown",
   "metadata": {},
   "source": [
    "With $a_0=1$, $a_1=0$, and $p=3$. So $$y''-x^2y''-2xy'+3(3+1)y=0$$"
   ]
  },
  {
   "cell_type": "code",
   "execution_count": 155,
   "metadata": {},
   "outputs": [
    {
     "data": {
      "text/plain": [
       "[an2 == (an*n^2 + an*n - 12*an)/(n^2 + 3*n + 2)]"
      ]
     },
     "execution_count": 155,
     "metadata": {},
     "output_type": "execute_result"
    }
   ],
   "source": [
    "solve([(ydd0-x^2*ydd2-2*x*yd1+3*(3+1)*y)],an2)"
   ]
  },
  {
   "cell_type": "code",
   "execution_count": 159,
   "metadata": {},
   "outputs": [
    {
     "data": {
      "text/html": [
       "<html><script type=\"math/tex; mode=display\">\\newcommand{\\Bold}[1]{\\mathbf{#1}}\\left[1, 0, -6, 0, 3, 0, \\frac{4}{5}, 0, \\frac{3}{7}, 0, \\frac{2}{7}, 0\\right]</script></html>"
      ],
      "text/plain": [
       "[1, 0, -6, 0, 3, 0, 4/5, 0, 3/7, 0, 2/7, 0]"
      ]
     },
     "metadata": {},
     "output_type": "display_data"
    }
   ],
   "source": [
    "#a0=1,a1=0,p=3\n",
    "def coef(an,n):\n",
    "    return((an*n^2 + an*n - 12*an)/(n^2 + 3*n + 2))\n",
    "a_nlist=[1,0] #a_0=1, a_1=0\n",
    "for i in range (0,10):\n",
    "    new=coef(a_nlist[i],i)\n",
    "    a_nlist.append(new)\n",
    "    \n",
    "show(a_nlist)"
   ]
  },
  {
   "cell_type": "markdown",
   "metadata": {},
   "source": [
    "This solution is more complex but when each piece is written out the solution was found to be: $$y=\\sum_0^\\infty {1+\\frac{-12}{2!}x^2+\\frac{72}{4!}x^4+\\frac{576}{6!}x^6+\\frac{17280}{8!}x^8+\\frac{1036800}{10!}x^{10}+...}$$\n"
   ]
  },
  {
   "cell_type": "code",
   "execution_count": 158,
   "metadata": {},
   "outputs": [
    {
     "data": {
      "text/html": [
       "<html><script type=\"math/tex; mode=display\">\\newcommand{\\Bold}[1]{\\mathbf{#1}}\\left[0, 1, 0, -\\frac{5}{3}, 0, 0, 0, 0, 0, 0, 0, 0\\right]</script></html>"
      ],
      "text/plain": [
       "[0, 1, 0, -5/3, 0, 0, 0, 0, 0, 0, 0, 0]"
      ]
     },
     "metadata": {},
     "output_type": "display_data"
    }
   ],
   "source": [
    "#a0=0,a1=1,p=3\n",
    "def coef(an,n):\n",
    "    return((an*n^2 + an*n - 12*an)/(n^2 + 3*n + 2))\n",
    "a_nlist=[0,1] #a_0=1, a_1=0\n",
    "for i in range (0,10):\n",
    "    new=coef(a_nlist[i],i)\n",
    "    a_nlist.append(new)\n",
    "    \n",
    "show(a_nlist)"
   ]
  },
  {
   "cell_type": "markdown",
   "metadata": {},
   "source": [
    "This is another straight forward solution with $$y=x-\\frac{5}{3}x^3$$\n",
    "\n",
    "This answer concludes Equation (2)."
   ]
  },
  {
   "cell_type": "markdown",
   "metadata": {},
   "source": [
    "Equation (3): $$(1-x^2)y''-xy'+p^2y=0$$ With $a_0=1$, $a_1=0$, and $p=0$. So $$(1-x^2)y''-xy'=0$$ This is also: $$y''-x^2y''-xy'=0$$"
   ]
  },
  {
   "cell_type": "code",
   "execution_count": 160,
   "metadata": {},
   "outputs": [
    {
     "data": {
      "text/plain": [
       "[an2 == an*n^2/(n^2 + 3*n + 2)]"
      ]
     },
     "execution_count": 160,
     "metadata": {},
     "output_type": "execute_result"
    }
   ],
   "source": [
    "solve([ydd0-x^2*ydd2-x*yd1],an2)"
   ]
  },
  {
   "cell_type": "code",
   "execution_count": 162,
   "metadata": {},
   "outputs": [
    {
     "data": {
      "text/html": [
       "<html><script type=\"math/tex; mode=display\">\\newcommand{\\Bold}[1]{\\mathbf{#1}}\\left[1, 0, 0, 0, 0, 0, 0, 0, 0, 0, 0, 0\\right]</script></html>"
      ],
      "text/plain": [
       "[1, 0, 0, 0, 0, 0, 0, 0, 0, 0, 0, 0]"
      ]
     },
     "metadata": {},
     "output_type": "display_data"
    }
   ],
   "source": [
    "#a0=1,a1=0,p=0\n",
    "def coef(an,n):\n",
    "    return(an*n^2/(n^2 + 3*n + 2))\n",
    "a_nlist=[1,0] #a_0=1, a_1=0\n",
    "for i in range (0,10):\n",
    "    new=coef(a_nlist[i],i)\n",
    "    a_nlist.append(new)\n",
    "    \n",
    "show(a_nlist)"
   ]
  },
  {
   "cell_type": "markdown",
   "metadata": {},
   "source": [
    "This solution is $$y=1$$"
   ]
  },
  {
   "cell_type": "code",
   "execution_count": 163,
   "metadata": {},
   "outputs": [
    {
     "data": {
      "text/html": [
       "<html><script type=\"math/tex; mode=display\">\\newcommand{\\Bold}[1]{\\mathbf{#1}}\\left[0, 1, 0, \\frac{1}{6}, 0, \\frac{3}{40}, 0, \\frac{5}{112}, 0, \\frac{35}{1152}, 0, \\frac{63}{2816}\\right]</script></html>"
      ],
      "text/plain": [
       "[0, 1, 0, 1/6, 0, 3/40, 0, 5/112, 0, 35/1152, 0, 63/2816]"
      ]
     },
     "metadata": {},
     "output_type": "display_data"
    }
   ],
   "source": [
    "#a0=0,a1=1,p=0\n",
    "def coef(an,n):\n",
    "    return(an*n^2/(n^2 + 3*n + 2))\n",
    "a_nlist=[0,1] #a_0=1, a_1=0\n",
    "for i in range (0,10):\n",
    "    new=coef(a_nlist[i],i)\n",
    "    a_nlist.append(new)\n",
    "    \n",
    "show(a_nlist)"
   ]
  },
  {
   "cell_type": "markdown",
   "metadata": {},
   "source": [
    "This solution was found by factoring all of the parts as well as solving for each a without simplifying: $$y=\\Sigma_0^\\infty{\\frac{(2n-1^{2})!!}{(2n-1)!}x^{2n+1}}$$"
   ]
  },
  {
   "cell_type": "markdown",
   "metadata": {},
   "source": [
    "With $a_0=1$, $a_1=0$, and $p=1$: $$y''-x^2y''-xy'+1^2y=0$$"
   ]
  },
  {
   "cell_type": "code",
   "execution_count": 164,
   "metadata": {},
   "outputs": [
    {
     "data": {
      "text/plain": [
       "[an2 == (an*n - an)/(n + 2)]"
      ]
     },
     "execution_count": 164,
     "metadata": {},
     "output_type": "execute_result"
    }
   ],
   "source": [
    "solve([ydd0-x^2*ydd2-x*yd1+1^2*y],an2)"
   ]
  },
  {
   "cell_type": "code",
   "execution_count": 167,
   "metadata": {},
   "outputs": [
    {
     "data": {
      "text/html": [
       "<html><script type=\"math/tex; mode=display\">\\newcommand{\\Bold}[1]{\\mathbf{#1}}\\left[1, 0, -\\frac{1}{2}, 0, -\\frac{1}{8}, 0, -\\frac{1}{16}, 0, -\\frac{5}{128}, 0, -\\frac{7}{256}, 0\\right]</script></html>"
      ],
      "text/plain": [
       "[1, 0, -1/2, 0, -1/8, 0, -1/16, 0, -5/128, 0, -7/256, 0]"
      ]
     },
     "metadata": {},
     "output_type": "display_data"
    }
   ],
   "source": [
    "#a0=1,a1=0,p=1\n",
    "def coef(an,n):\n",
    "    return((an*n - an)/(n + 2))\n",
    "a_nlist=[1,0] #a_0=1, a_1=0\n",
    "for i in range (0,10):\n",
    "    new=coef(a_nlist[i],i)\n",
    "    a_nlist.append(new)\n",
    "    \n",
    "show(a_nlist)"
   ]
  },
  {
   "cell_type": "markdown",
   "metadata": {},
   "source": [
    "This solution is: $$y=1+\\sum_1^\\infty{\\frac{-(2n-3)!!}{(2n)!!}x^{2n}}$$"
   ]
  },
  {
   "cell_type": "code",
   "execution_count": 166,
   "metadata": {},
   "outputs": [
    {
     "data": {
      "text/html": [
       "<html><script type=\"math/tex; mode=display\">\\newcommand{\\Bold}[1]{\\mathbf{#1}}\\left[0, 1, 0, 0, 0, 0, 0, 0, 0, 0, 0, 0\\right]</script></html>"
      ],
      "text/plain": [
       "[0, 1, 0, 0, 0, 0, 0, 0, 0, 0, 0, 0]"
      ]
     },
     "metadata": {},
     "output_type": "display_data"
    }
   ],
   "source": [
    "#a0=0,a1=1,p=1\n",
    "def coef(an,n):\n",
    "    return((an*n - an)/(n + 2))\n",
    "a_nlist=[0,1] #a_0=1, a_1=0\n",
    "for i in range (0,10):\n",
    "    new=coef(a_nlist[i],i)\n",
    "    a_nlist.append(new)\n",
    "    \n",
    "show(a_nlist)"
   ]
  },
  {
   "cell_type": "markdown",
   "metadata": {},
   "source": [
    "This is again, a straight forward solution with $$y=x$$"
   ]
  },
  {
   "cell_type": "markdown",
   "metadata": {},
   "source": [
    "With $a_0=1$, $a_1=0$, and $p=2$: $$y''-x^2y''-xy'+2^2y=0$$"
   ]
  },
  {
   "cell_type": "code",
   "execution_count": 168,
   "metadata": {},
   "outputs": [
    {
     "data": {
      "text/plain": [
       "[an2 == (an*n - 2*an)/(n + 1)]"
      ]
     },
     "execution_count": 168,
     "metadata": {},
     "output_type": "execute_result"
    }
   ],
   "source": [
    "solve([ydd0-x^2*ydd2-x*yd1+2^2*y],an2)"
   ]
  },
  {
   "cell_type": "code",
   "execution_count": 172,
   "metadata": {},
   "outputs": [
    {
     "data": {
      "text/html": [
       "<html><script type=\"math/tex; mode=display\">\\newcommand{\\Bold}[1]{\\mathbf{#1}}\\left[1, 0, -2, 0, 0, 0, 0, 0, 0, 0, 0, 0\\right]</script></html>"
      ],
      "text/plain": [
       "[1, 0, -2, 0, 0, 0, 0, 0, 0, 0, 0, 0]"
      ]
     },
     "metadata": {},
     "output_type": "display_data"
    }
   ],
   "source": [
    "#a0=1,a1=0,p=2\n",
    "def coef(an,n):\n",
    "    return((an*n - 2*an)/(n + 1))\n",
    "a_nlist=[1,0] #a_0=1, a_1=0\n",
    "for i in range (0,10):\n",
    "    new=coef(a_nlist[i],i)\n",
    "    a_nlist.append(new)\n",
    "    \n",
    "show(a_nlist)"
   ]
  },
  {
   "cell_type": "markdown",
   "metadata": {},
   "source": [
    "$$y=-2x^2+1$$"
   ]
  },
  {
   "cell_type": "code",
   "execution_count": 174,
   "metadata": {},
   "outputs": [
    {
     "data": {
      "text/html": [
       "<html><script type=\"math/tex; mode=display\">\\newcommand{\\Bold}[1]{\\mathbf{#1}}\\left[0, 1, 0, -\\frac{1}{2}, 0, -\\frac{1}{8}, 0, -\\frac{1}{16}, 0, -\\frac{5}{128}, 0, -\\frac{7}{256}\\right]</script></html>"
      ],
      "text/plain": [
       "[0, 1, 0, -1/2, 0, -1/8, 0, -1/16, 0, -5/128, 0, -7/256]"
      ]
     },
     "metadata": {},
     "output_type": "display_data"
    }
   ],
   "source": [
    "#a0=0,a1=1,p=2\n",
    "def coef(an,n):\n",
    "    return((an*n - 2*an)/(n + 1))\n",
    "a_nlist=[0,1] #a_0=1, a_1=0\n",
    "for i in range (0,10):\n",
    "    new=coef(a_nlist[i],i)\n",
    "    a_nlist.append(new)\n",
    "    \n",
    "show(a_nlist)"
   ]
  },
  {
   "cell_type": "markdown",
   "metadata": {},
   "source": [
    "$$y=x+\\sum_1^\\infty{\\frac{-(2n-3)!!}{(2n)!!}x^{2n+1}}$$"
   ]
  },
  {
   "cell_type": "markdown",
   "metadata": {},
   "source": [
    "With $a_0=1$, $a_1=0$, and $p=3$: $$y''-x^2y''-xy'+3^2y=0$$"
   ]
  },
  {
   "cell_type": "code",
   "execution_count": 177,
   "metadata": {},
   "outputs": [
    {
     "data": {
      "text/plain": [
       "[an2 == (an*n^2 - 9*an)/(n^2 + 3*n + 2)]"
      ]
     },
     "execution_count": 177,
     "metadata": {},
     "output_type": "execute_result"
    }
   ],
   "source": [
    "solve([ydd0-x^2*ydd2-x*yd1+3^2*y],an2)"
   ]
  },
  {
   "cell_type": "code",
   "execution_count": 179,
   "metadata": {},
   "outputs": [
    {
     "data": {
      "text/html": [
       "<html><script type=\"math/tex; mode=display\">\\newcommand{\\Bold}[1]{\\mathbf{#1}}\\left[1, 0, -\\frac{9}{2}, 0, \\frac{15}{8}, 0, \\frac{7}{16}, 0, \\frac{27}{128}, 0, \\frac{33}{256}, 0\\right]</script></html>"
      ],
      "text/plain": [
       "[1, 0, -9/2, 0, 15/8, 0, 7/16, 0, 27/128, 0, 33/256, 0]"
      ]
     },
     "metadata": {},
     "output_type": "display_data"
    }
   ],
   "source": [
    "#a0=1,a1=0,p=3\n",
    "def coef(an,n):\n",
    "    return((an*n^2 - 9*an)/(n^2 + 3*n + 2))\n",
    "a_nlist=[1,0] #a_0=1, a_1=0\n",
    "for i in range (0,10):\n",
    "    new=coef(a_nlist[i],i)\n",
    "    a_nlist.append(new)\n",
    "    \n",
    "show(a_nlist)"
   ]
  },
  {
   "cell_type": "markdown",
   "metadata": {},
   "source": [
    "$$y=1+\\Sigma_1^\\infty{-\\frac{9}{2!}x^2+\\frac{45}{4!}x^4+\\frac{315}{6!}x^6+\\frac{8505}{8!}x^8+...}$$"
   ]
  },
  {
   "cell_type": "code",
   "execution_count": 180,
   "metadata": {},
   "outputs": [
    {
     "data": {
      "text/html": [
       "<html><script type=\"math/tex; mode=display\">\\newcommand{\\Bold}[1]{\\mathbf{#1}}\\left[0, 1, 0, -\\frac{4}{3}, 0, 0, 0, 0, 0, 0, 0, 0\\right]</script></html>"
      ],
      "text/plain": [
       "[0, 1, 0, -4/3, 0, 0, 0, 0, 0, 0, 0, 0]"
      ]
     },
     "metadata": {},
     "output_type": "display_data"
    }
   ],
   "source": [
    "#a0=0,a1=1,p=3\n",
    "def coef(an,n):\n",
    "    return((an*n^2 - 9*an)/(n^2 + 3*n + 2))\n",
    "a_nlist=[0,1] #a_0=1, a_1=0\n",
    "for i in range (0,10):\n",
    "    new=coef(a_nlist[i],i)\n",
    "    a_nlist.append(new)\n",
    "    \n",
    "show(a_nlist)"
   ]
  },
  {
   "cell_type": "markdown",
   "metadata": {},
   "source": [
    "$$y=x-\\frac{4}{3}x^3$$\n",
    "\n",
    "This solution concludes Problem #1."
   ]
  },
  {
   "cell_type": "markdown",
   "metadata": {},
   "source": [
    "2. For $p=0,1,2,3,4,5,6$, Find polynomial solutions for Equation (2) with $y(1)=1$.Argue that, for each, $p$ there is only one such solution.  These polynomials are called the Legendre polynomials."
   ]
  },
  {
   "cell_type": "markdown",
   "metadata": {},
   "source": [
    "Legendre's Equation (2) $$(1-x^2)y''-2xy'+p(p+1)y=0$$"
   ]
  },
  {
   "cell_type": "markdown",
   "metadata": {},
   "source": [
    "When \n",
    "1. $p=0$, $y''-x^2y''-2xy'=0$\n",
    "2. $p=1$, $y''-x^2y''-2xy'+2y=0$\n",
    "3. $p=2$, $y''-x^2y''-2xy'+2(3)y=0$\n",
    "4. $p=3$, $y''-x^2y''-2xy'+3(4)y=0$\n",
    "5. $p=4$, $y''-x^2y''-2xy'+4(5)y=0$\n",
    "6. $p=5$, $y''-x^2y''-2xy'+5(6)y=0$\n",
    "7. $p=6$, $y''-x^2y''-2xy'+6(7)y=0$"
   ]
  },
  {
   "cell_type": "code",
   "execution_count": 203,
   "metadata": {},
   "outputs": [
    {
     "data": {
      "text/plain": [
       "[an2 == (an*n^2 - an*p^2 + an*n - an*p)/(n^2 + 3*n + 2)]"
      ]
     },
     "execution_count": 203,
     "metadata": {},
     "output_type": "execute_result"
    }
   ],
   "source": [
    "p=var('p')\n",
    "solve([ydd0-x^2*ydd2-2*x*yd1+p*(p+1)*y],an2)"
   ]
  },
  {
   "cell_type": "code",
   "execution_count": 200,
   "metadata": {},
   "outputs": [
    {
     "data": {
      "text/html": [
       "<html><script type=\"math/tex; mode=display\">\\newcommand{\\Bold}[1]{\\mathbf{#1}}\\mathit{an}_{2} = \\frac{\\mathit{an} n^{2} - \\mathit{an} p^{2} + \\mathit{an} n - \\mathit{an} p}{n^{2} + 3 \\, n + 2}</script></html>"
      ],
      "text/plain": [
       "an2 == (an*n^2 - an*p^2 + an*n - an*p)/(n^2 + 3*n + 2)"
      ]
     },
     "metadata": {},
     "output_type": "display_data"
    }
   ],
   "source": [
    "show(an2==(an*n^2 - an*p^2 + an*n - an*p)/(n^2 + 3*n + 2))"
   ]
  },
  {
   "cell_type": "markdown",
   "metadata": {},
   "source": [
    "This is also $$a_{n+2}=\\frac{a_n(n^2-p^2+n-p)}{(n+1)(n+2)}$$\n",
    "Which will simplify to $$a_{n+2}=\\frac{a_n(n-p)(n+p+1)}{(n+1)(n+2)}$$"
   ]
  },
  {
   "cell_type": "markdown",
   "metadata": {},
   "source": [
    "Because we are given $y(1)=1$, that will make it easier to find the solutions that are correct from the #1-#6 with $a_0=1,a_1=0$ and $a_0=0,a_1=1$.\n",
    "\n",
    "There will only be only solution equation for each p value because \n",
    "\n",
    "The polynomials for $p=0,1,2,3$ have already been computed above and we will reference those as we complete this question."
   ]
  },
  {
   "cell_type": "markdown",
   "metadata": {},
   "source": [
    "From above we show that for $a_0=1,a_1=0$ and $p=0$, $y=a_0=1$. We consider this to be the Legendre polynomial because it terminates. If the series doesn't terminate, it can't be used as the wanted polynomial. \n",
    "\n",
    "So, based on the parts that have been completed above and we are going to but them into a set thing with $P_p(x)=solution$.\n",
    "\n",
    "Looking at the pattern above we can see that when p is even, the even series terminates, and when p is odd, the odd series terminates.\n",
    "\n",
    "The full solution will be listed together when all have been found at the end of this section."
   ]
  },
  {
   "cell_type": "markdown",
   "metadata": {},
   "source": [
    "Due to the fact that we have the initial value $y(1)=1$ \n",
    "we are going to impliment an $a_0$ to show this. "
   ]
  },
  {
   "cell_type": "markdown",
   "metadata": {},
   "source": [
    "This will be visible at the end of this section"
   ]
  },
  {
   "cell_type": "code",
   "execution_count": 205,
   "metadata": {},
   "outputs": [
    {
     "data": {
      "text/plain": [
       "[an2 == (an*n^2 + an*n - 20*an)/(n^2 + 3*n + 2)]"
      ]
     },
     "execution_count": 205,
     "metadata": {},
     "output_type": "execute_result"
    }
   ],
   "source": [
    "#a0=1,a1=0,p=4\n",
    "solve([(ydd0-x^2*ydd2-2*x*yd1+4*(4+1)*y)],an2)"
   ]
  },
  {
   "cell_type": "code",
   "execution_count": 207,
   "metadata": {},
   "outputs": [
    {
     "data": {
      "text/html": [
       "<html><script type=\"math/tex; mode=display\">\\newcommand{\\Bold}[1]{\\mathbf{#1}}\\left[1, 0, -10, 0, \\frac{35}{3}, 0, 0, 0, 0, 0, 0, 0\\right]</script></html>"
      ],
      "text/plain": [
       "[1, 0, -10, 0, 35/3, 0, 0, 0, 0, 0, 0, 0]"
      ]
     },
     "metadata": {},
     "output_type": "display_data"
    }
   ],
   "source": [
    "def coef(an,n):\n",
    "    return((an*n^2 + an*n - 20*an)/(n^2 + 3*n + 2))\n",
    "a_nlist=[1,0] #a_0=1, a_1=0\n",
    "for i in range (0,10):\n",
    "    new=coef(a_nlist[i],i)\n",
    "    a_nlist.append(new)\n",
    "    \n",
    "show(a_nlist)"
   ]
  },
  {
   "cell_type": "markdown",
   "metadata": {},
   "source": [
    "$$y=\\frac{35}{3}x^4-10x^2+1$$"
   ]
  },
  {
   "cell_type": "code",
   "execution_count": 209,
   "metadata": {},
   "outputs": [
    {
     "data": {
      "text/plain": [
       "[an2 == (an*n^2 + an*n - 30*an)/(n^2 + 3*n + 2)]"
      ]
     },
     "execution_count": 209,
     "metadata": {},
     "output_type": "execute_result"
    }
   ],
   "source": [
    "#a0=0,a1=1,p=5\n",
    "solve([(ydd0-x^2*ydd2-2*x*yd1+5*(5+1)*y)],an2)"
   ]
  },
  {
   "cell_type": "code",
   "execution_count": 210,
   "metadata": {},
   "outputs": [
    {
     "data": {
      "text/html": [
       "<html><script type=\"math/tex; mode=display\">\\newcommand{\\Bold}[1]{\\mathbf{#1}}\\left[0, 1, 0, -\\frac{14}{3}, 0, \\frac{21}{5}, 0, 0, 0, 0, 0, 0\\right]</script></html>"
      ],
      "text/plain": [
       "[0, 1, 0, -14/3, 0, 21/5, 0, 0, 0, 0, 0, 0]"
      ]
     },
     "metadata": {},
     "output_type": "display_data"
    }
   ],
   "source": [
    "def coef(an,n):\n",
    "    return((an*n^2 + an*n - 30*an)/(n^2 + 3*n + 2))\n",
    "a_nlist=[0,1] \n",
    "for i in range (0,10):\n",
    "    new=coef(a_nlist[i],i)\n",
    "    a_nlist.append(new)\n",
    "    \n",
    "show(a_nlist)"
   ]
  },
  {
   "cell_type": "markdown",
   "metadata": {},
   "source": [
    "$$y=\\frac{21}{5}x^5-\\frac{14}{3}x^3+x$$"
   ]
  },
  {
   "cell_type": "code",
   "execution_count": 211,
   "metadata": {},
   "outputs": [
    {
     "data": {
      "text/plain": [
       "[an2 == (an*n^2 + an*n - 42*an)/(n^2 + 3*n + 2)]"
      ]
     },
     "execution_count": 211,
     "metadata": {},
     "output_type": "execute_result"
    }
   ],
   "source": [
    "#a0=1,a1=0,p=6\n",
    "solve([(ydd0-x^2*ydd2-2*x*yd1+6*(6+1)*y)],an2)"
   ]
  },
  {
   "cell_type": "code",
   "execution_count": 213,
   "metadata": {},
   "outputs": [
    {
     "data": {
      "text/html": [
       "<html><script type=\"math/tex; mode=display\">\\newcommand{\\Bold}[1]{\\mathbf{#1}}\\left[1, 0, -21, 0, 63, 0, -\\frac{231}{5}, 0, 0, 0, 0, 0\\right]</script></html>"
      ],
      "text/plain": [
       "[1, 0, -21, 0, 63, 0, -231/5, 0, 0, 0, 0, 0]"
      ]
     },
     "metadata": {},
     "output_type": "display_data"
    }
   ],
   "source": [
    "def coef(an,n):\n",
    "    return((an*n^2 + an*n - 42*an)/(n^2 + 3*n + 2))\n",
    "a_nlist=[1,0] #a_0=1, a_1=0\n",
    "for i in range (0,10):\n",
    "    new=coef(a_nlist[i],i)\n",
    "    a_nlist.append(new)\n",
    "    \n",
    "show(a_nlist)"
   ]
  },
  {
   "cell_type": "markdown",
   "metadata": {},
   "source": [
    "$$y=\\frac{-231}{5}x^6+63x^4-21x^2+1$$"
   ]
  },
  {
   "cell_type": "markdown",
   "metadata": {},
   "source": [
    "1. $p=0, a_0=1,a_1=0 \\rightarrow P_0=1a_0$\n",
    "2. $p=1, a_0=1,a_1=1 \\rightarrow P_1=xa_0$\n",
    "3. $p=2, a_0=1,a_1=0 \\rightarrow P_2=(1-3x^2)a_0$\n",
    "4. $p=3, a_0=1,a_1=1 \\rightarrow P_3=(x-\\frac{5}{3}x^3)a_0$\n",
    "5. $p=4, a_0=1,a_1=0 \\rightarrow P_4=(\\frac{35}{3}x^4-10x^2+1)a_0$\n",
    "6. $p=5, a_0=1,a_1=1 \\rightarrow P_5=(\\frac{21}{5}x^5-\\frac{14}{3}x^3+x)a_0$\n",
    "7. $p=6, a_0=1,a_1=0 \\rightarrow P_6=(\\frac{-231}{5}x^6+63x^4-21x^2+1)a_0$\n",
    "\n",
    "These are the Legendre Polynomials before the initial value requirement has been applied.\n",
    "We will also for $a_0$ for each problem based on $y(1)=1$.\n",
    "\n",
    "Some are very easy to see, for $p=0,1$ $a_0=1$"
   ]
  },
  {
   "cell_type": "code",
   "execution_count": 270,
   "metadata": {},
   "outputs": [
    {
     "data": {
      "text/html": [
       "<html><script type=\"math/tex; mode=display\">\\newcommand{\\Bold}[1]{\\mathbf{#1}}\\left[a = \\left(-\\frac{1}{2}\\right)\\right]</script></html>"
      ],
      "text/plain": [
       "[a == (-1/2)]"
      ]
     },
     "metadata": {},
     "output_type": "display_data"
    },
    {
     "data": {
      "text/html": [
       "<html><script type=\"math/tex; mode=display\">\\newcommand{\\Bold}[1]{\\mathbf{#1}}\\left[a = \\left(-\\frac{3}{2}\\right)\\right]</script></html>"
      ],
      "text/plain": [
       "[a == (-3/2)]"
      ]
     },
     "metadata": {},
     "output_type": "display_data"
    },
    {
     "data": {
      "text/html": [
       "<html><script type=\"math/tex; mode=display\">\\newcommand{\\Bold}[1]{\\mathbf{#1}}\\left[a = \\left(\\frac{3}{8}\\right)\\right]</script></html>"
      ],
      "text/plain": [
       "[a == (3/8)]"
      ]
     },
     "metadata": {},
     "output_type": "display_data"
    },
    {
     "data": {
      "text/html": [
       "<html><script type=\"math/tex; mode=display\">\\newcommand{\\Bold}[1]{\\mathbf{#1}}\\left[a = \\left(\\frac{15}{8}\\right)\\right]</script></html>"
      ],
      "text/plain": [
       "[a == (15/8)]"
      ]
     },
     "metadata": {},
     "output_type": "display_data"
    },
    {
     "data": {
      "text/html": [
       "<html><script type=\"math/tex; mode=display\">\\newcommand{\\Bold}[1]{\\mathbf{#1}}\\left[a = \\left(-\\frac{5}{16}\\right)\\right]</script></html>"
      ],
      "text/plain": [
       "[a == (-5/16)]"
      ]
     },
     "metadata": {},
     "output_type": "display_data"
    }
   ],
   "source": [
    "a=var('a')\n",
    "P2=a*(1-3*x^2)\n",
    "P3=a*(x-5/3*x^3)\n",
    "P4=a*(35/3*x^4-10*x^2+1) \n",
    "P5=a*(21/5*x^5-14/3*x^3+x)\n",
    "P6=a*(-231/5*x^6+63*x^4-21*x^2+1)\n",
    "x=1\n",
    "p2=solve([P2==1],a)\n",
    "show(p2)\n",
    "p3=solve([P3==1],a)\n",
    "show(p3)\n",
    "p4=solve([P4==1],a)\n",
    "show(p4)\n",
    "p5=solve([P5==1],a)\n",
    "show(p5)\n",
    "p6=solve([P6==1],a)\n",
    "show(p6)"
   ]
  },
  {
   "cell_type": "markdown",
   "metadata": {},
   "source": [
    "Now the final equations are:\n",
    "1. $p=0, a_0=1,a_1=0 \\rightarrow P_0=1$\n",
    "2. $p=1, a_0=1,a_1=1 \\rightarrow P_1=x$\n",
    "3. $p=2, a_0=1,a_1=0 \\rightarrow P_2=\\frac{1}{2}(3x^2-1)$\n",
    "4. $p=3, a_0=1,a_1=1 \\rightarrow P_3=\\frac{1}{2}(5x^3-3x)$\n",
    "5. $p=4, a_0=1,a_1=0 \\rightarrow P_4=\\frac{1}{8}(35x^4-30x^2+3)$\n",
    "6. $p=5, a_0=1,a_1=1 \\rightarrow P_5=\\frac{1}{8}(63x^5-70x^3+15x)$\n",
    "7. $p=6, a_0=1,a_1=0 \\rightarrow P_6=\\frac{1}{16}(231x^6-315x^4+105x^2-5)$\n",
    "\n",
    "These are the Legendre Polynomials!!"
   ]
  },
  {
   "cell_type": "markdown",
   "metadata": {},
   "source": [
    "3. Plot the first seven Legendre polynomials on a single plot and conjecture a property for these polynomials that depends on whether p is even or odd."
   ]
  },
  {
   "cell_type": "code",
   "execution_count": 271,
   "metadata": {},
   "outputs": [
    {
     "data": {
      "image/png": "[encoded data removed]",
      "text/plain": [
       "Graphics object consisting of 7 graphics primitives"
      ]
     },
     "metadata": {},
     "output_type": "display_data"
    }
   ],
   "source": [
    "x=var('x')\n",
    "P0=1 #green\n",
    "P1=x #red\n",
    "P2=(-1/2)*(1-3*x^2) #yellow\n",
    "P3=(-3/2)*(x-5/3*x^3) #purple\n",
    "P4=(3/8)*(35/3*x^4-10*x^2+1) #orange\n",
    "P5=(15/8)*(21/5*x^5-14/3*x^3+x) #aqua\n",
    "P6=(-5/16)*(-231/5*x^6+63*x^4-21*x^2+1) #blue\n",
    "\n",
    "show(sum([plot(P0,color='green')\n",
    "          +plot(P1,color='red')\n",
    "          +plot(P2,color='yellow')\n",
    "          +plot(P3,color='purple')\n",
    "          +plot(P4,color='orange')\n",
    "          +plot(P5,color='aqua')\n",
    "          +plot(P6)]))"
   ]
  },
  {
   "cell_type": "markdown",
   "metadata": {},
   "source": [
    "Based on the plot we can conjecture that even polynomials (not including zero) will have an odd number of minimum and maximum points added together and odd polynomials (not including one or zero) will have an even number of minumum and maximum points added together."
   ]
  },
  {
   "cell_type": "markdown",
   "metadata": {},
   "source": [
    "4. Consider Hermite’s equation (1).  For a positive integer p, how should you choose values in {0,1} for $a_0$ and $a_1$ so that the cooresponding power series solution $h_p(x)$is actually a polynomial? Compute $h_p(x)$for p ∈ {0,1,2,3,4,5,6}."
   ]
  },
  {
   "cell_type": "markdown",
   "metadata": {},
   "source": [
    "Similar to question 2 above, some of these polynomials have already been calculated. And again, the be considered a polynomials solution, the series must terminate. So we we only be looking at the series that terminates from the solutions above and finding a pattern to calculating the polynomials. All of the solutions will be listed together at the end of this section."
   ]
  },
  {
   "cell_type": "markdown",
   "metadata": {},
   "source": [
    "Hermite's Equation (1) $$y''-2xy'+2py=0$$\n",
    "\n",
    "When:\n",
    "1. $p=0$, $y''-2xy'=0$\n",
    "2. $p=1$, $y''-2xy'+2(1)y=0$\n",
    "3. $p=2$, $y''-2xy'+2(2)y=0$\n",
    "4. $p=3$, $y''-2xy'+2(3)y=0$\n",
    "5. $p=4$, $y''-2xy'+2(4)y=0$\n",
    "6. $p=5$, $y''-2xy'+2(5)y=0$\n",
    "7. $p=6$, $y''-2xy'+2(6)y=0$\n",
    "\n",
    "From the work done in problem 1 we can see that "
   ]
  },
  {
   "cell_type": "code",
   "execution_count": 247,
   "metadata": {},
   "outputs": [
    {
     "data": {
      "text/plain": [
       "[an2 == 2*(an*n - an*p)/(n^2 + 3*n + 2)]"
      ]
     },
     "execution_count": 247,
     "metadata": {},
     "output_type": "execute_result"
    }
   ],
   "source": [
    "p=var('p')\n",
    "solve([ydd0-2*x*yd1+2*p*y],an2)"
   ]
  },
  {
   "cell_type": "code",
   "execution_count": 248,
   "metadata": {},
   "outputs": [
    {
     "data": {
      "text/html": [
       "<html><script type=\"math/tex; mode=display\">\\newcommand{\\Bold}[1]{\\mathbf{#1}}\\mathit{an}_{2} = \\frac{2 \\, {\\left(\\mathit{an} n - \\mathit{an} p\\right)}}{n^{2} + 3 \\, n + 2}</script></html>"
      ],
      "text/plain": [
       "an2 == 2*(an*n - an*p)/(n^2 + 3*n + 2)"
      ]
     },
     "metadata": {},
     "output_type": "display_data"
    }
   ],
   "source": [
    "show(an2 == 2*(an*n - an*p)/(n^2 + 3*n + 2))"
   ]
  },
  {
   "cell_type": "markdown",
   "metadata": {},
   "source": [
    "This is $$a_{n+2}=a_n\\frac{2(n-p)}{(n+1)(n+2)}$$"
   ]
  },
  {
   "cell_type": "code",
   "execution_count": 250,
   "metadata": {},
   "outputs": [
    {
     "data": {
      "text/html": [
       "<html><script type=\"math/tex; mode=display\">\\newcommand{\\Bold}[1]{\\mathbf{#1}}\\left[1, 0, -4, 0, \\frac{4}{3}, 0, 0, 0, 0, 0, 0, 0\\right]</script></html>"
      ],
      "text/plain": [
       "[1, 0, -4, 0, 4/3, 0, 0, 0, 0, 0, 0, 0]"
      ]
     },
     "metadata": {},
     "output_type": "display_data"
    }
   ],
   "source": [
    "#a0=1,a1=0,p=4\n",
    "p=4\n",
    "def coef(an,n):\n",
    "    return(2*(an*n - an*p)/(n^2 + 3*n + 2))\n",
    "a_nlist=[1,0] #a_0=1, a_1=0\n",
    "for i in range (0,10):\n",
    "    new=coef(a_nlist[i],i)\n",
    "    a_nlist.append(new)\n",
    "    \n",
    "show(a_nlist)"
   ]
  },
  {
   "cell_type": "markdown",
   "metadata": {},
   "source": [
    "$$y_4=\\frac{4}{3}x^4-4x^2+1$$"
   ]
  },
  {
   "cell_type": "code",
   "execution_count": 252,
   "metadata": {},
   "outputs": [
    {
     "data": {
      "text/html": [
       "<html><script type=\"math/tex; mode=display\">\\newcommand{\\Bold}[1]{\\mathbf{#1}}\\left[0, 1, 0, -\\frac{4}{3}, 0, \\frac{4}{15}, 0, 0, 0, 0, 0, 0\\right]</script></html>"
      ],
      "text/plain": [
       "[0, 1, 0, -4/3, 0, 4/15, 0, 0, 0, 0, 0, 0]"
      ]
     },
     "metadata": {},
     "output_type": "display_data"
    }
   ],
   "source": [
    "#a0=0,a1=1,p=5\n",
    "p=5\n",
    "def coef(an,n):\n",
    "    return(2*(an*n - an*p)/(n^2 + 3*n + 2))\n",
    "a_nlist=[0,1] #a_0=0, a_1=1\n",
    "for i in range (0,10):\n",
    "    new=coef(a_nlist[i],i)\n",
    "    a_nlist.append(new)\n",
    "    \n",
    "show(a_nlist)"
   ]
  },
  {
   "cell_type": "markdown",
   "metadata": {},
   "source": [
    "$$y_5=\\frac{4}{15}x^5-\\frac{4}{3}x^3+x$$"
   ]
  },
  {
   "cell_type": "code",
   "execution_count": 253,
   "metadata": {
    "scrolled": true
   },
   "outputs": [
    {
     "data": {
      "text/html": [
       "<html><script type=\"math/tex; mode=display\">\\newcommand{\\Bold}[1]{\\mathbf{#1}}\\left[1, 0, -6, 0, 4, 0, -\\frac{8}{15}, 0, 0, 0, 0, 0\\right]</script></html>"
      ],
      "text/plain": [
       "[1, 0, -6, 0, 4, 0, -8/15, 0, 0, 0, 0, 0]"
      ]
     },
     "metadata": {},
     "output_type": "display_data"
    }
   ],
   "source": [
    "#a0=1,a1=0,p=4\n",
    "p=6\n",
    "def coef(an,n):\n",
    "    return(2*(an*n - an*p)/(n^2 + 3*n + 2))\n",
    "a_nlist=[1,0] #a_0=1, a_1=0\n",
    "for i in range (0,10):\n",
    "    new=coef(a_nlist[i],i)\n",
    "    a_nlist.append(new)\n",
    "    \n",
    "show(a_nlist)"
   ]
  },
  {
   "cell_type": "markdown",
   "metadata": {},
   "source": [
    "$$y_6=-\\frac{8}{15}x^6+4x^4-6x^2+1$$"
   ]
  },
  {
   "cell_type": "markdown",
   "metadata": {},
   "source": [
    "1. $p=0, a_0=1,a_1=0 \\rightarrow h_0(x)=1$\n",
    "2. $p=1, a_0=0,a_1=1 \\rightarrow h_1(x)=x$\n",
    "3. $p=2, a_0=1,a_1=0 \\rightarrow h_2(x)=1-2x^2$\n",
    "4. $p=3, a_0=0,a_1=1 \\rightarrow h_3(x)=x-\\frac{2}{3}x^3$\n",
    "5. $p=4, a_0=1,a_1=0 \\rightarrow h_4(x)=1-4x^2+\\frac{4}{3}x^4$\n",
    "6. $p=5, a_0=0,a_1=1 \\rightarrow h_5(x)=\\frac{4}{5}x^5-\\frac{4}{3}x^3+x$\n",
    "7. $p=6, a_0=1,a_1=0 \\rightarrow h_6(x)=\\frac{-8}{15}x^6+4x^4-6x^2+1$\n",
    "\n",
    "There are the Hermite's polynomials!!"
   ]
  },
  {
   "cell_type": "markdown",
   "metadata": {},
   "source": [
    "5. Let $G(x,t)=exp(2xt−t^2)$ and, for a positive integer $j$, define $$H_j(x)=\\frac{\\delta^jG}{\\delta t^j}|_{t=0}$$ Then, using Taylor's Formula, we get $$\\sum_{n=0}^\\infty\\frac{H_n(x)}{n!}t^n$$ which is a formal taylor series for G. Show that $$\\frac{\\delta^2G}{\\delta{x^2}}-2x\\frac{\\delta{G}}{\\delta{x}}+2(2xt-2t^2)G=0$$ Assume that G can be expressed as the power series formula and that it can be differentiated term wise with respect to x and t to argue that,  for any fixed non-negative integer, $H_n$ satisfies Hermite’s equation. Finally, notice that $H_n$ is a scalar multiple of $h_n$ for every such n. The polynomials $H_n$ are called Hermite polynomials.  Make a conjecture for a formula that gives the scalars relating $h_n$ and $H_n$."
   ]
  },
  {
   "cell_type": "markdown",
   "metadata": {},
   "source": [
    "So here we see that $G(x,t)=e^{2xt-t^2}$\n",
    "\n",
    "That first equation is holding x constant for making the derivative. So we want to find $H_j(x)$ by taking the derivative of the above equation while treating x as a constant.\n",
    "\n",
    "The first thing to do is make sure the ODE above can be evaluated correctly."
   ]
  },
  {
   "cell_type": "code",
   "execution_count": 331,
   "metadata": {},
   "outputs": [
    {
     "data": {
      "text/plain": [
       "0"
      ]
     },
     "execution_count": 331,
     "metadata": {},
     "output_type": "execute_result"
    }
   ],
   "source": [
    "x,t,n=var('x,t,n')\n",
    "G=e^(2*x*t-t^2)\n",
    "dgx=G.diff(x)\n",
    "dgx2=G.diff(x,2)\n",
    "\n",
    "ode=dgx2-2*x*dgx+2*(2*x*t-2*t^2)*G\n",
    "ode.full_simplify()"
   ]
  },
  {
   "cell_type": "markdown",
   "metadata": {},
   "source": [
    "This proves the equation from the question above."
   ]
  },
  {
   "cell_type": "code",
   "execution_count": 332,
   "metadata": {},
   "outputs": [
    {
     "name": "stdout",
     "output_type": "stream",
     "text": [
      "dG 0 = e^(-t^2 + 2*t*x)\n",
      "dG 1 = -2*(t - x)*e^(-t^2 + 2*t*x)\n",
      "dG 2 = 4*(t - x)^2*e^(-t^2 + 2*t*x) - 2*e^(-t^2 + 2*t*x)\n",
      "dG 3 = -8*(t - x)^3*e^(-t^2 + 2*t*x) + 12*(t - x)*e^(-t^2 + 2*t*x)\n",
      "dG 4 = 16*(t - x)^4*e^(-t^2 + 2*t*x) - 48*(t - x)^2*e^(-t^2 + 2*t*x) + 12*e^(-t^2 + 2*t*x)\n"
     ]
    },
    {
     "data": {
      "text/html": [
       "<html><script type=\"math/tex; mode=display\">\\newcommand{\\Bold}[1]{\\mathbf{#1}}\\left[e^{\\left(-t^{2} + 2 \\, t x\\right)}, -2 \\, {\\left(t - x\\right)} e^{\\left(-t^{2} + 2 \\, t x\\right)}, 4 \\, {\\left(t - x\\right)}^{2} e^{\\left(-t^{2} + 2 \\, t x\\right)} - 2 \\, e^{\\left(-t^{2} + 2 \\, t x\\right)}, -8 \\, {\\left(t - x\\right)}^{3} e^{\\left(-t^{2} + 2 \\, t x\\right)} + 12 \\, {\\left(t - x\\right)} e^{\\left(-t^{2} + 2 \\, t x\\right)}, 16 \\, {\\left(t - x\\right)}^{4} e^{\\left(-t^{2} + 2 \\, t x\\right)} - 48 \\, {\\left(t - x\\right)}^{2} e^{\\left(-t^{2} + 2 \\, t x\\right)} + 12 \\, e^{\\left(-t^{2} + 2 \\, t x\\right)}\\right]</script></html>"
      ],
      "text/plain": [
       "[e^(-t^2 + 2*t*x),\n",
       " -2*(t - x)*e^(-t^2 + 2*t*x),\n",
       " 4*(t - x)^2*e^(-t^2 + 2*t*x) - 2*e^(-t^2 + 2*t*x),\n",
       " -8*(t - x)^3*e^(-t^2 + 2*t*x) + 12*(t - x)*e^(-t^2 + 2*t*x),\n",
       " 16*(t - x)^4*e^(-t^2 + 2*t*x) - 48*(t - x)^2*e^(-t^2 + 2*t*x) + 12*e^(-t^2 + 2*t*x)]"
      ]
     },
     "metadata": {},
     "output_type": "display_data"
    }
   ],
   "source": [
    "Glist=[]\n",
    "for i in range (0,5):\n",
    "    new=G.diff(t,i)\n",
    "    Glist.append(new)\n",
    "    print('dG',i,'=',new)\n",
    "    \n",
    "show(Glist)"
   ]
  },
  {
   "cell_type": "code",
   "execution_count": 333,
   "metadata": {},
   "outputs": [
    {
     "data": {
      "text/html": [
       "<html><script type=\"math/tex; mode=display\">\\newcommand{\\Bold}[1]{\\mathbf{#1}}\\verb|H0=G=| 1</script></html>"
      ],
      "text/plain": [
       "'H0=G=' 1"
      ]
     },
     "metadata": {},
     "output_type": "display_data"
    },
    {
     "data": {
      "text/html": [
       "<html><script type=\"math/tex; mode=display\">\\newcommand{\\Bold}[1]{\\mathbf{#1}}\\verb|H1=dG=| 2 \\, x</script></html>"
      ],
      "text/plain": [
       "'H1=dG=' 2*x"
      ]
     },
     "metadata": {},
     "output_type": "display_data"
    },
    {
     "data": {
      "text/html": [
       "<html><script type=\"math/tex; mode=display\">\\newcommand{\\Bold}[1]{\\mathbf{#1}}\\verb|H2=d2G=| 4 \\, x^{2} - 2</script></html>"
      ],
      "text/plain": [
       "'H2=d2G=' 4*x^2 - 2"
      ]
     },
     "metadata": {},
     "output_type": "display_data"
    },
    {
     "data": {
      "text/html": [
       "<html><script type=\"math/tex; mode=display\">\\newcommand{\\Bold}[1]{\\mathbf{#1}}\\verb|H3=d3G=| 8 \\, x^{3} - 12 \\, x</script></html>"
      ],
      "text/plain": [
       "'H3=d3G=' 8*x^3 - 12*x"
      ]
     },
     "metadata": {},
     "output_type": "display_data"
    },
    {
     "data": {
      "text/html": [
       "<html><script type=\"math/tex; mode=display\">\\newcommand{\\Bold}[1]{\\mathbf{#1}}\\verb|H4=d4G=| 16 \\, x^{4} - 48 \\, x^{2} + 12</script></html>"
      ],
      "text/plain": [
       "'H4=d4G=' 16*x^4 - 48*x^2 + 12"
      ]
     },
     "metadata": {},
     "output_type": "display_data"
    }
   ],
   "source": [
    "t=0\n",
    "G=e^(-t^2 + 2*t*x)\n",
    "dG=-2*(t - x)*e^(-t^2 + 2*t*x)\n",
    "d2G=4*(t - x)^2*e^(-t^2 + 2*t*x) - 2*e^(-t^2 + 2*t*x)\n",
    "d3G=-8*(t - x)^3*e^(-t^2 + 2*t*x) + 12*(t - x)*e^(-t^2 + 2*t*x)\n",
    "d4G=16*(t - x)^4*e^(-t^2 + 2*t*x) - 48*(t - x)^2*e^(-t^2 + 2*t*x) + 12*e^(-t^2 + 2*t*x)\n",
    "show('H0=G=',G)\n",
    "show('H1=dG=',dG)\n",
    "show('H2=d2G=',d2G)\n",
    "show('H3=d3G=',d3G)\n",
    "show('H4=d4G=',d4G)\n",
    "H0=G\n",
    "H1=dG\n",
    "H2=d2G\n",
    "H3=d3G\n",
    "H4=d4G"
   ]
  },
  {
   "cell_type": "markdown",
   "metadata": {},
   "source": [
    "So from question 4 and this question we want to see a relationship between $h_n$ and $H_n$.\n",
    "\n",
    "$$h_0(x)=1$$\n",
    "$$h_1(x)=x$$\n",
    "$$h_2(x)=1-2x^2$$\n",
    "$$h_3(x)=x-\\frac{2}{3}x^3$$\n",
    "$$h_4(x)=1-4x^2+\\frac{4}{3}x^4$$"
   ]
  },
  {
   "cell_type": "markdown",
   "metadata": {},
   "source": [
    "Here you can see that these equations are related based on a scalar.$$H_0=h_0$$ $$H_1=2h_1$$ $$H_2=-2h_2$$ $$H_3=-12h_3$$ $$H_4=12h_4$$ "
   ]
  },
  {
   "cell_type": "markdown",
   "metadata": {},
   "source": [
    "6. Plot $h_j$ for $j=0,...,4$ on a single plot. Do the same for $H_j$ for $j=0,...,4$.\n",
    "\n",
    "The equations for $h_j$ are pulled from problem number 4."
   ]
  },
  {
   "cell_type": "code",
   "execution_count": 264,
   "metadata": {},
   "outputs": [
    {
     "data": {
      "image/png": "[encoded data removed]",
      "text/plain": [
       "Graphics object consisting of 5 graphics primitives"
      ]
     },
     "metadata": {},
     "output_type": "display_data"
    }
   ],
   "source": [
    "h0=1\n",
    "h1=x\n",
    "h2=1-x^2\n",
    "h3=x-2/3*x^3\n",
    "h4=1-4*x^2+4/3*x^4\n",
    "\n",
    "show(sum([plot(h0,color='green')\n",
    "          +plot(h1,color='red')\n",
    "          +plot(h2,color='yellow')\n",
    "          +plot(h3,color='purple')\n",
    "          +plot(h4,color='orange')]))"
   ]
  },
  {
   "cell_type": "code",
   "execution_count": 334,
   "metadata": {},
   "outputs": [
    {
     "data": {
      "image/png": "[encoded data removed]",
      "text/plain": [
       "Graphics object consisting of 5 graphics primitives"
      ]
     },
     "metadata": {},
     "output_type": "display_data"
    }
   ],
   "source": [
    "show(sum([plot(H0,color='green')\n",
    "          +plot(H1,color='red')\n",
    "          +plot(H2,color='yellow')\n",
    "          +plot(H3,color='purple')\n",
    "          +plot(H4,color='orange')]))"
   ]
  },
  {
   "cell_type": "markdown",
   "metadata": {},
   "source": [
    "7. Suppose that $\\alpha$, $\\beta$, and $\\gamma$ are fixed real numbers. The hypergeometic equation is $$x(1-x)y''+(\\gamma-(\\alpha+\\beta+1)x)y'-\\alpha\\beta y=0$$ This equation has regular singular points at 0,1, and $\\infty$.  (It turns out that any second order linear difierential equation with three regular singular points is equivalent to the hypergeometric equation, so it is quite important.)\n",
    "\n",
    "Suppose that $\\gamma$ is not a non-positive integer. The hypergeometric series is the series $$F(\\alpha,\\beta,\\gamma,x)=1+\\frac{\\alpha\\beta}{1!\\gamma}x+\\frac{\\alpha(\\alpha+1)\\beta(\\beta+1)}{2!\\gamma(\\gamma+1)}x^2+\\frac{\\alpha(\\alpha+1)(\\alpha+2)\\beta(\\beta+1)()\\beta+2}{3!\\gamma(\\gamma+1)(\\gamma+2)}x^3+...$$ \n",
    "\n",
    "Show that $F(\\alpha,\\beta,\\gamma,x)$ converges on $(-1,1)$ and is a solution for the ODE above corresponding to the indical root zero."
   ]
  },
  {
   "cell_type": "markdown",
   "metadata": {},
   "source": [
    "So based on the function above, $$F(\\alpha,\\beta,\\gamma,x)=\\sum_0^\\infty\\frac{(\\alpha)_n(\\beta)_n}{n!(\\gamma)_n}x^n$$\n",
    "\n",
    "To do this question we are going to take the ratio test $$\\lim{n\\to\\infty}\\left\\lvert\\frac{a_{n+1}}{a_n}\\right\\rvert$$ To make this easier $\\alpha=a$, $\\beta=b$, and $\\gamma=c$ \n",
    "\n",
    "Because the limit is multiplied by x we are going to take the reciprocal R. The interval of convergence will be (-R, R). Also, because most of the terms can cancel we will end up with $$\\lim{n\\to\\infty}\\left\\lvert\\frac{(c+n)(n+1)}{(a+n)(b+n)}\\right\\rvert$$ From this we can see that the limits has an n-squared term over another one and this shows that the it converges on (-1, 1)."
   ]
  },
  {
   "cell_type": "markdown",
   "metadata": {},
   "source": [
    "An indical root of zero is when m=0 from this equation: $$y=x^m\\sum_{n=0}^\\infty d_nx^n$$"
   ]
  },
  {
   "cell_type": "code",
   "execution_count": 392,
   "metadata": {},
   "outputs": [],
   "source": [
    "x,m,n=var('x,m,n')\n",
    "dn,dn1,dn2=var('dn,dn1,dn2')\n",
    "y=dn*x^(n+m)\n",
    "yd1=(n+m)*dn*x^(n+m-1)\n",
    "yd0=(n+m+1)*dn1*x^(n+m)\n",
    "ydd2=(n+m)*(n+m-1)*dn*x^(n+m-2)\n",
    "ydd1=(n+m)*(n+m+1)*dn1*x^(n+m-1)\n",
    "ydd0=(n+m+2)*(n+m+1)*dn2*x^(n+m)"
   ]
  },
  {
   "cell_type": "markdown",
   "metadata": {},
   "source": [
    "Now we are going to use these and plug them into the original hypergeometric equation. $$x(1-x)y''+(\\gamma-(\\alpha+\\beta+1)x)y'-\\alpha\\beta y=0$$ \n",
    "\n",
    "In order for the equation to be useable we want all of the exponents of x to be equal to x+m-1. And we are going to assume that $d_0$ is not equal to zero."
   ]
  },
  {
   "cell_type": "code",
   "execution_count": 445,
   "metadata": {},
   "outputs": [
    {
     "data": {
      "text/html": [
       "<html><script type=\"math/tex; mode=display\">\\newcommand{\\Bold}[1]{\\mathbf{#1}}\\left[m = -c + 1, m = 0\\right]</script></html>"
      ],
      "text/plain": [
       "[m == -c + 1, m == 0]"
      ]
     },
     "metadata": {},
     "output_type": "display_data"
    }
   ],
   "source": [
    "a,b,c=var('a,b,c')\n",
    "d0=var('d0')\n",
    "m=var('m')\n",
    "F=dn*(n+m)*(n+m-1)*x^(n+m-1)-dn1*(m+m-1)*(n+m-2)*x^(n+m-1)+c*dn*(n+m)*x^(n+m-1)-(1+a+b)*dn1*(n+m-1)*x^(n+m-1)-a*b*dn1*x^(n+m-1)\n",
    "#Now this equation is not perfect and we want to be able to take the first term of the sums\n",
    "#(they can't be shown in this previous equation) and show that we have a recursion relation\n",
    "rr=solve([(m*(m-1)+c*m)],m)\n",
    "show(rr)"
   ]
  },
  {
   "cell_type": "markdown",
   "metadata": {},
   "source": [
    "Because we took out the first term, now the equation becomes:"
   ]
  },
  {
   "cell_type": "code",
   "execution_count": 446,
   "metadata": {},
   "outputs": [
    {
     "name": "stdout",
     "output_type": "stream",
     "text": [
      "(c*(m + 1) + (m + 1)*m)*dn - (a*b + (a + b + 1)*m + m^2)*dn1\n"
     ]
    }
   ],
   "source": [
    "dn=var('dn')\n",
    "F=((n+m)*(n+m-1)+c*(n+m))*dn+(-1*(n+m-1)*(n+m-1)-(1+a+b)*(n+m-1)-a*b)*dn1\n",
    "print(F)"
   ]
  },
  {
   "cell_type": "code",
   "execution_count": 447,
   "metadata": {},
   "outputs": [
    {
     "name": "stdout",
     "output_type": "stream",
     "text": [
      "[\n",
      "dn == (a*b*dn1 + (a + b + 1)*dn1*m + dn1*m^2)/((c + 1)*m + m^2 + c)\n",
      "]\n"
     ]
    },
    {
     "data": {
      "text/html": [
       "<html><script type=\"math/tex; mode=display\">\\newcommand{\\Bold}[1]{\\mathbf{#1}}\\left[\\mathit{dn} = \\frac{a b \\mathit{dn}_{1} + {\\left(a + b + 1\\right)} \\mathit{dn}_{1} m + \\mathit{dn}_{1} m^{2}}{{\\left(c + 1\\right)} m + m^{2} + c}\\right]</script></html>"
      ],
      "text/plain": [
       "[dn == (a*b*dn1 + (a + b + 1)*dn1*m + dn1*m^2)/((c + 1)*m + m^2 + c)]"
      ]
     },
     "metadata": {},
     "output_type": "display_data"
    }
   ],
   "source": [
    "rr2=solve([(c*(m + n) + (m + n)*(m + n - 1))*dn - (a*b + (a + b + 1)*(m + n - 1) + (m + n - 1)^2)*dn1],dn)\n",
    "print(rr2)\n",
    "show(rr2)"
   ]
  },
  {
   "cell_type": "code",
   "execution_count": 434,
   "metadata": {},
   "outputs": [
    {
     "data": {
      "text/html": [
       "<html><script type=\"math/tex; mode=display\">\\newcommand{\\Bold}[1]{\\mathbf{#1}}\\frac{{\\left(a + b - 1\\right)} \\mathit{dn}_{1} n + \\mathit{dn}_{1} n^{2} + {\\left({\\left(a - 1\\right)} b - a\\right)} \\mathit{dn}_{1}}{{\\left(c - 1\\right)} n + n^{2}}</script></html>"
      ],
      "text/plain": [
       "((a + b - 1)*dn1*n + dn1*n^2 + ((a - 1)*b - a)*dn1)/((c - 1)*n + n^2)"
      ]
     },
     "metadata": {},
     "output_type": "display_data"
    }
   ],
   "source": [
    "m=0\n",
    "n=var('n')\n",
    "dn = ((a + b - 1)*dn1*m + dn1*m^2 + dn1*n^2 + ((a - 1)*b - a)*dn1 + ((a + b - 1)*dn1 + 2*dn1*m)*n)/((c - 1)*m + m^2 + (c + 2*m - 1)*n + n^2)\n",
    "dn.full_simplify().show()"
   ]
  },
  {
   "cell_type": "code",
   "execution_count": 443,
   "metadata": {},
   "outputs": [
    {
     "name": "stdout",
     "output_type": "stream",
     "text": [
      "d1= (((a - 1)*b - a + 1)*d0 + (a + b)*d0)/c\n"
     ]
    },
    {
     "data": {
      "text/html": [
       "<html><script type=\"math/tex; mode=display\">\\newcommand{\\Bold}[1]{\\mathbf{#1}}\\frac{{\\left(a b + 1\\right)} d_{0}}{c}</script></html>"
      ],
      "text/plain": [
       "(a*b + 1)*d0/c"
      ]
     },
     "metadata": {},
     "output_type": "display_data"
    }
   ],
   "source": [
    "n=1\n",
    "d0=var('d0')\n",
    "d1=((a + b)*d0*n + ((a - 1)*b - a + 1)*d0)/((c - 1)*n + n^2)\n",
    "print('d1=',d1)\n",
    "d1.full_simplify().show()"
   ]
  },
  {
   "cell_type": "markdown",
   "metadata": {},
   "source": [
    "So when we review the solution we found in the first part of this question we can see that when n=1 we get the same solution as we did to find the radius of convergence."
   ]
  },
  {
   "cell_type": "markdown",
   "metadata": {},
   "source": [
    "8. Suppose that $\\gamma$ is not an integer and express a solution to the ODE in problem 7 corresponding to the indical root $1-\\gamma$ in terms of F. Give the general solution to the ODE in terms of F. \n",
    "\n",
    "Knowing that the indical root (m) is equal to $1-\\gamma$ we can use the following:"
   ]
  },
  {
   "cell_type": "code",
   "execution_count": 450,
   "metadata": {},
   "outputs": [
    {
     "data": {
      "text/plain": [
       "-((a + b - 2*c + 1)*dn1*n + dn1*n^2 + (a*b - (a + b + 1)*c + c^2)*dn1)/((c - 1)*n - n^2)"
      ]
     },
     "execution_count": 450,
     "metadata": {},
     "output_type": "execute_result"
    }
   ],
   "source": [
    "m=1-c\n",
    "n=var('n')\n",
    "dn = ((a + b - 1)*dn1*m + dn1*m^2 + dn1*n^2 + ((a - 1)*b - a)*dn1 + ((a + b - 1)*dn1 + 2*dn1*m)*n)/((c - 1)*m + m^2 + (c + 2*m - 1)*n + n^2)\n",
    "dn.full_simplify()"
   ]
  },
  {
   "cell_type": "code",
   "execution_count": 451,
   "metadata": {},
   "outputs": [
    {
     "name": "stdout",
     "output_type": "stream",
     "text": [
      "d1= -((a*b - (a + b + 1)*c + c^2)*dn1 + (a + b - 2*c + 1)*dn1 + dn1)/(c - 2)\n"
     ]
    },
    {
     "data": {
      "text/html": [
       "<html><script type=\"math/tex; mode=display\">\\newcommand{\\Bold}[1]{\\mathbf{#1}}-\\frac{{\\left({\\left(a + 1\\right)} b - {\\left(a + b + 3\\right)} c + c^{2} + a + 2\\right)} \\mathit{dn}_{1}}{c - 2}</script></html>"
      ],
      "text/plain": [
       "-((a + 1)*b - (a + b + 3)*c + c^2 + a + 2)*dn1/(c - 2)"
      ]
     },
     "metadata": {},
     "output_type": "display_data"
    }
   ],
   "source": [
    "n=1\n",
    "d0=var('d0')\n",
    "d1=-((a + b - 2*c + 1)*dn1*n + dn1*n^2 + (a*b - (a + b + 1)*c + c^2)*dn1)/((c - 1)*n - n^2)\n",
    "print('d1=',d1)\n",
    "d1.full_simplify().show()"
   ]
  },
  {
   "cell_type": "markdown",
   "metadata": {},
   "source": [
    "This gives us a recurssion relation and we can make sure that this will evaluate into the the original equation (kind of) because the m is equal to $1-\\gamma$ our answers will be slightly different. But it will still evaluate to $$F(\\alpha-\\gamma+1,\\beta-\\gamma+1,2-\\gamma,x)$$"
   ]
  },
  {
   "cell_type": "markdown",
   "metadata": {},
   "source": [
    "9. Use the substitution $\\frac{1}{2}(1-x)=t$ to show that a particular solution to Legendre's equation (2) is given by $$F\\left(p+1,-p,1,\\frac{1}{2}(1-x)\\right)$$. So based on this $$a=p+1$$ $$b=-p$$$$c=1$$$$t=\\frac{1}{2}(1-x)$$\n",
    "\n",
    "Now putting this into the original equation will give us a useful equation. This will be shown in the code below."
   ]
  },
  {
   "cell_type": "code",
   "execution_count": 388,
   "metadata": {},
   "outputs": [
    {
     "data": {
      "text/plain": [
       "-1/3251404800*p^14 - 1/464486400*p^13 + 1/17203200*p^12 + 1/2654208*p^11 - 2207/464486400*p^10 - 67/2457600*p^9 + 709207/3251404800*p^8 + 1/3251404800*(p^14 + 7*p^13 - 91*p^12 - 637*p^11 + 3003*p^10 + 21021*p^9 - 44473*p^8 - 311311*p^7 + 296296*p^6 + 2074072*p^5 - 773136*p^4 - 5411952*p^3 + 518400*p^2 + 3628800*p)*x^7 + 96641/92897280*p^7 - 1/464486400*(p^14 + 7*p^13 - 105*p^12 - 721*p^11 + 3773*p^10 + 25641*p^9 - 58795*p^8 - 397243*p^7 + 403326*p^6 + 2716252*p^5 - 1068200*p^4 - 7182336*p^3 + 720000*p^2 + 4838400*p)*x^6 - 457157/77414400*p^6 + 1/154828800*(p^14 + 7*p^13 - 119*p^12 - 805*p^11 + 4879*p^10 + 31941*p^9 - 83197*p^8 - 533575*p^7 + 602084*p^6 + 3817072*p^5 - 1638784*p^4 - 10330320*p^3 + 1115136*p^2 + 7015680*p)*x^5 - 356257/16588800*p^5 - 1/92897280*(p^14 + 7*p^13 - 133*p^12 - 889*p^11 + 6321*p^10 + 39921*p^9 - 127759*p^8 - 760627*p^7 + 1033690*p^6 + 5941012*p^5 - 2978808*p^4 - 16831584*p^3 + 2066688*p^2 + 11612160*p)*x^4 + 5099509/58060800*p^4 + 1/92897280*(p^14 + 7*p^13 - 147*p^12 - 973*p^11 + 8099*p^10 + 49581*p^9 - 202561*p^8 - 1118719*p^7 + 2161824*p^6 + 10620232*p^5 - 7194992*p^4 - 33500208*p^3 + 5227776*p^2 + 23950080*p)*x^3 + 29407/138240*p^3 - 1/154828800*(p^14 + 7*p^13 - 161*p^12 - 1057*p^11 + 10213*p^10 + 60921*p^9 - 317683*p^8 - 1648171*p^7 + 4772726*p^6 + 20354572*p^5 - 27683656*p^4 - 91342272*p^3 + 23218560*p^2 + 72576000*p)*x^2 - 136919/235200*p^2 + 1/464486400*(p^14 + 7*p^13 - 175*p^12 - 1141*p^11 + 12663*p^10 + 73941*p^9 - 483205*p^8 - 2389303*p^7 + 9975196*p^6 + 38611552*p^5 - 98807520*p^4 - 264909456*p^3 + 321546240*p^2 + 460857600*p)*x - 1163/1680*p + 1"
      ]
     },
     "execution_count": 388,
     "metadata": {},
     "output_type": "execute_result"
    }
   ],
   "source": [
    "p,x=var('p,x')\n",
    "a=p+1\n",
    "b=-p\n",
    "c=1\n",
    "t=1/2*(1-x)\n",
    "f=(1+a*b/c*t\n",
    "   +a*(a+1)*b*(b+1)/(factorial(2)*c*(c+1))*t^2\n",
    "   +a*(a+1)*(a+2)*b*(b+1)*(b+2)/(factorial(3)*c*(c+1)*(c+2))*t^3\n",
    "   +a*(a+1)*(a+2)*(a+3)*b*(b+1)*(b+2)*(b+3)/(factorial(4)*c*(c+1)*(c+2)*(c+3))*t^4\n",
    "   +a*(a+1)*(a+2)*(a+3)*(a+4)*b*(b+1)*(b+2)*(b+3)*(b+4)/(factorial(5)*c*(c+1)*(c+2)*(c+3)*(c+4))*t^5\n",
    "   +a*(a+1)*(a+2)*(a+3)*(a+4)*(a+5)*b*(b+1)*(b+2)*(b+3)*(b+4)*(b+5)/(factorial(6)*c*(c+1)*(c+2)*(c+3)*(c+4)*(c+5))*t^6\n",
    "   +a*(a+1)*(a+2)*(a+3)*(a+4)*(a+5)*(a+6)*b*(b+1)*(b+2)*(b+3)*(b+4)*(b+5)*(b+6)/(factorial(7)*c*(c+1)*(c+2)*(c+3)*(c+4)*(c+5)*(c+6))*t^7)\n",
    "f.full_simplify()"
   ]
  },
  {
   "cell_type": "markdown",
   "metadata": {},
   "source": [
    "Now we are going to plug in different values of p to show that this equation is a particular solution to equation 2. $$(1-x^2)y''-2xy'+p(p+1)y=0$$"
   ]
  },
  {
   "cell_type": "code",
   "execution_count": 389,
   "metadata": {},
   "outputs": [
    {
     "data": {
      "text/html": [
       "<html><script type=\"math/tex; mode=display\">\\newcommand{\\Bold}[1]{\\mathbf{#1}}-\\frac{1}{3251404800} \\, p^{16} - \\frac{1}{406425600} \\, p^{15} + \\frac{1}{23224320} \\, p^{14} + \\frac{1}{2903040} \\, p^{13} - \\frac{533}{232243200} \\, p^{12} - \\frac{533}{29030400} \\, p^{11} + \\frac{9581}{162570240} \\, p^{10} + \\frac{9581}{20321280} \\, p^{9} - \\frac{353639}{464486400} \\, p^{8} + \\frac{1}{3251404800} \\, {\\left(p^{16} + 8 \\, p^{15} - 140 \\, p^{14} - 1120 \\, p^{13} + 7462 \\, p^{12} + 59696 \\, p^{11} - 191620 \\, p^{10} - 1532960 \\, p^{9} + 2475473 \\, p^{8} + 19803784 \\, p^{7} - 15291640 \\, p^{6} - 122333120 \\, p^{5} + 38402064 \\, p^{4} + 307216512 \\, p^{3} - 25401600 \\, p^{2} - 203212800 \\, p\\right)} x^{7} - \\frac{353639}{58060800} \\, p^{7} - \\frac{1}{464486400} \\, {\\left(p^{16} + 8 \\, p^{15} - 140 \\, p^{14} - 1120 \\, p^{13} + 7462 \\, p^{12} + 59696 \\, p^{11} - 191620 \\, p^{10} - 1532960 \\, p^{9} + 2475473 \\, p^{8} + 19803784 \\, p^{7} - 15291640 \\, p^{6} - 122333120 \\, p^{5} + 38402064 \\, p^{4} + 307216512 \\, p^{3} - 25401600 \\, p^{2} - 203212800 \\, p\\right)} x^{6} + \\frac{54613}{11612160} \\, p^{6} + \\frac{1}{154828800} \\, {\\left(p^{16} + 8 \\, p^{15} - 140 \\, p^{14} - 1120 \\, p^{13} + 7462 \\, p^{12} + 59696 \\, p^{11} - 191620 \\, p^{10} - 1532960 \\, p^{9} + 2475473 \\, p^{8} + 19803784 \\, p^{7} - 15291640 \\, p^{6} - 122333120 \\, p^{5} + 38402064 \\, p^{4} + 307216512 \\, p^{3} - 25401600 \\, p^{2} - 203212800 \\, p\\right)} x^{5} + \\frac{54613}{1451520} \\, p^{5} - \\frac{1}{92897280} \\, {\\left(p^{16} + 8 \\, p^{15} - 140 \\, p^{14} - 1120 \\, p^{13} + 7462 \\, p^{12} + 59696 \\, p^{11} - 191620 \\, p^{10} - 1532960 \\, p^{9} + 2475473 \\, p^{8} + 19803784 \\, p^{7} - 15291640 \\, p^{6} - 122333120 \\, p^{5} + 38402064 \\, p^{4} + 307216512 \\, p^{3} - 25401600 \\, p^{2} - 203212800 \\, p\\right)} x^{4} - \\frac{266681}{22579200} \\, p^{4} + \\frac{1}{92897280} \\, {\\left(p^{16} + 8 \\, p^{15} - 140 \\, p^{14} - 1120 \\, p^{13} + 7462 \\, p^{12} + 59696 \\, p^{11} - 191620 \\, p^{10} - 1532960 \\, p^{9} + 2475473 \\, p^{8} + 19803784 \\, p^{7} - 15291640 \\, p^{6} - 122333120 \\, p^{5} + 38402064 \\, p^{4} + 307216512 \\, p^{3} - 25401600 \\, p^{2} - 203212800 \\, p\\right)} x^{3} - \\frac{266681}{2822400} \\, p^{3} - \\frac{1}{154828800} \\, {\\left(p^{16} + 8 \\, p^{15} - 140 \\, p^{14} - 1120 \\, p^{13} + 7462 \\, p^{12} + 59696 \\, p^{11} - 191620 \\, p^{10} - 1532960 \\, p^{9} + 2475473 \\, p^{8} + 19803784 \\, p^{7} - 15291640 \\, p^{6} - 122333120 \\, p^{5} + 38402064 \\, p^{4} + 307216512 \\, p^{3} - 25401600 \\, p^{2} - 203212800 \\, p\\right)} x^{2} + \\frac{1}{128} \\, p^{2} + \\frac{1}{464486400} \\, {\\left(p^{16} + 8 \\, p^{15} - 140 \\, p^{14} - 1120 \\, p^{13} + 7462 \\, p^{12} + 59696 \\, p^{11} - 191620 \\, p^{10} - 1532960 \\, p^{9} + 2475473 \\, p^{8} + 19803784 \\, p^{7} - 15291640 \\, p^{6} - 122333120 \\, p^{5} + 38402064 \\, p^{4} + 307216512 \\, p^{3} - 25401600 \\, p^{2} - 203212800 \\, p\\right)} x + \\frac{1}{16} \\, p</script></html>"
      ],
      "text/plain": [
       "-1/3251404800*p^16 - 1/406425600*p^15 + 1/23224320*p^14 + 1/2903040*p^13 - 533/232243200*p^12 - 533/29030400*p^11 + 9581/162570240*p^10 + 9581/20321280*p^9 - 353639/464486400*p^8 + 1/3251404800*(p^16 + 8*p^15 - 140*p^14 - 1120*p^13 + 7462*p^12 + 59696*p^11 - 191620*p^10 - 1532960*p^9 + 2475473*p^8 + 19803784*p^7 - 15291640*p^6 - 122333120*p^5 + 38402064*p^4 + 307216512*p^3 - 25401600*p^2 - 203212800*p)*x^7 - 353639/58060800*p^7 - 1/464486400*(p^16 + 8*p^15 - 140*p^14 - 1120*p^13 + 7462*p^12 + 59696*p^11 - 191620*p^10 - 1532960*p^9 + 2475473*p^8 + 19803784*p^7 - 15291640*p^6 - 122333120*p^5 + 38402064*p^4 + 307216512*p^3 - 25401600*p^2 - 203212800*p)*x^6 + 54613/11612160*p^6 + 1/154828800*(p^16 + 8*p^15 - 140*p^14 - 1120*p^13 + 7462*p^12 + 59696*p^11 - 191620*p^10 - 1532960*p^9 + 2475473*p^8 + 19803784*p^7 - 15291640*p^6 - 122333120*p^5 + 38402064*p^4 + 307216512*p^3 - 25401600*p^2 - 203212800*p)*x^5 + 54613/1451520*p^5 - 1/92897280*(p^16 + 8*p^15 - 140*p^14 - 1120*p^13 + 7462*p^12 + 59696*p^11 - 191620*p^10 - 1532960*p^9 + 2475473*p^8 + 19803784*p^7 - 15291640*p^6 - 122333120*p^5 + 38402064*p^4 + 307216512*p^3 - 25401600*p^2 - 203212800*p)*x^4 - 266681/22579200*p^4 + 1/92897280*(p^16 + 8*p^15 - 140*p^14 - 1120*p^13 + 7462*p^12 + 59696*p^11 - 191620*p^10 - 1532960*p^9 + 2475473*p^8 + 19803784*p^7 - 15291640*p^6 - 122333120*p^5 + 38402064*p^4 + 307216512*p^3 - 25401600*p^2 - 203212800*p)*x^3 - 266681/2822400*p^3 - 1/154828800*(p^16 + 8*p^15 - 140*p^14 - 1120*p^13 + 7462*p^12 + 59696*p^11 - 191620*p^10 - 1532960*p^9 + 2475473*p^8 + 19803784*p^7 - 15291640*p^6 - 122333120*p^5 + 38402064*p^4 + 307216512*p^3 - 25401600*p^2 - 203212800*p)*x^2 + 1/128*p^2 + 1/464486400*(p^16 + 8*p^15 - 140*p^14 - 1120*p^13 + 7462*p^12 + 59696*p^11 - 191620*p^10 - 1532960*p^9 + 2475473*p^8 + 19803784*p^7 - 15291640*p^6 - 122333120*p^5 + 38402064*p^4 + 307216512*p^3 - 25401600*p^2 - 203212800*p)*x + 1/16*p"
      ]
     },
     "metadata": {},
     "output_type": "display_data"
    }
   ],
   "source": [
    "df=f.diff(x)\n",
    "ddf=f.diff(x,2)\n",
    "ode=(1-x^2)*ddf-2*x*df+p*(p+1)*f\n",
    "ode.full_simplify().show()"
   ]
  },
  {
   "cell_type": "code",
   "execution_count": 390,
   "metadata": {},
   "outputs": [
    {
     "name": "stdout",
     "output_type": "stream",
     "text": [
      "f( 0 )= 1\n",
      "f( 1 )= x\n",
      "f( 2 )= 3/2*x^2 - 1/2\n",
      "f( 3 )= 5/2*x^3 - 3/2*x\n",
      "f( 4 )= 35/8*x^4 - 15/4*x^2 + 3/8\n",
      "f( 5 )= 63/8*x^5 - 35/4*x^3 + 15/8*x\n",
      "f( 6 )= 231/16*x^6 - 315/16*x^4 + 105/16*x^2 - 5/16\n"
     ]
    },
    {
     "data": {
      "text/html": [
       "<html><script type=\"math/tex; mode=display\">\\newcommand{\\Bold}[1]{\\mathbf{#1}}\\left[1, x, \\frac{3}{2} \\, x^{2} - \\frac{1}{2}, \\frac{5}{2} \\, x^{3} - \\frac{3}{2} \\, x, \\frac{35}{8} \\, x^{4} - \\frac{15}{4} \\, x^{2} + \\frac{3}{8}, \\frac{63}{8} \\, x^{5} - \\frac{35}{4} \\, x^{3} + \\frac{15}{8} \\, x, \\frac{231}{16} \\, x^{6} - \\frac{315}{16} \\, x^{4} + \\frac{105}{16} \\, x^{2} - \\frac{5}{16}\\right]</script></html>"
      ],
      "text/plain": [
       "[1,\n",
       " x,\n",
       " 3/2*x^2 - 1/2,\n",
       " 5/2*x^3 - 3/2*x,\n",
       " 35/8*x^4 - 15/4*x^2 + 3/8,\n",
       " 63/8*x^5 - 35/4*x^3 + 15/8*x,\n",
       " 231/16*x^6 - 315/16*x^4 + 105/16*x^2 - 5/16]"
      ]
     },
     "metadata": {},
     "output_type": "display_data"
    }
   ],
   "source": [
    "Flist=[]\n",
    "for i in range (0,7):\n",
    "    p=i\n",
    "    new=(-1/3251404800*p^14 - 1/464486400*p^13 + 1/17203200*p^12 + 1/2654208*p^11 - 2207/464486400*p^10 - \n",
    "         67/2457600*p^9 + 709207/3251404800*p^8 + 1/3251404800*(p^14 + 7*p^13 - 91*p^12 - 637*p^11 + 3003*p^10 + 21021*p^9\n",
    "        - 44473*p^8 - 311311*p^7 + 296296*p^6 + 2074072*p^5 - 773136*p^4 - 5411952*p^3 + 518400*p^2 + 3628800*p)*x^7 + \n",
    "         96641/92897280*p^7 - 1/464486400*(p^14 + 7*p^13 - 105*p^12 - 721*p^11 + 3773*p^10 + 25641*p^9 - 58795*p^8 - \n",
    "        397243*p^7 + 403326*p^6 + 2716252*p^5 - 1068200*p^4 - 7182336*p^3 + 720000*p^2 + 4838400*p)*x^6 - \n",
    "         457157/77414400*p^6 + 1/154828800*(p^14 + 7*p^13 - 119*p^12 - 805*p^11 + 4879*p^10 + 31941*p^9 - 83197*p^8 - \n",
    "        533575*p^7 + 602084*p^6 + 3817072*p^5 - 1638784*p^4 - 10330320*p^3 + 1115136*p^2 + 7015680*p)*x^5 - \n",
    "         356257/16588800*p^5 - 1/92897280*(p^14 + 7*p^13 - 133*p^12 - 889*p^11 + 6321*p^10 + 39921*p^9 - 127759*p^8 - \n",
    "        760627*p^7 + 1033690*p^6 + 5941012*p^5 - 2978808*p^4 - 16831584*p^3 + 2066688*p^2 + 11612160*p)*x^4 + \n",
    "         5099509/58060800*p^4 + 1/92897280*(p^14 + 7*p^13 - 147*p^12 - 973*p^11 + 8099*p^10 + 49581*p^9 - 202561*p^8 - \n",
    "        1118719*p^7 + 2161824*p^6 + 10620232*p^5 - 7194992*p^4 - 33500208*p^3 + 5227776*p^2 + 23950080*p)*x^3 + \n",
    "         29407/138240*p^3 - 1/154828800*(p^14 + 7*p^13 - 161*p^12 - 1057*p^11 + 10213*p^10 + 60921*p^9 - 317683*p^8 - \n",
    "        1648171*p^7 + 4772726*p^6 + 20354572*p^5 - 27683656*p^4 - 91342272*p^3 + 23218560*p^2 + 72576000*p)*x^2 - \n",
    "         136919/235200*p^2 + 1/464486400*(p^14 + 7*p^13 - 175*p^12 - 1141*p^11 + 12663*p^10 + 73941*p^9 - 483205*p^8 - \n",
    "            2389303*p^7 + 9975196*p^6 + 38611552*p^5 - 98807520*p^4 - 264909456*p^3 + 321546240*p^2 + 460857600*p)*x - \n",
    "         1163/1680*p + 1)\n",
    "    Flist.append(new)\n",
    "    print('f(',i,')=',new)\n",
    "    \n",
    "show(Flist)"
   ]
  },
  {
   "cell_type": "markdown",
   "metadata": {},
   "source": [
    "These equations above are very similar to the Legendre Polynomials that we found earlier. The only issue that we can see is that the scalar in front of the equations from problem 2. Below I will show this! The actual Legendre polynomials are: $$P_0=1$$\n",
    "$$P_1=x$$ $$P_2=\\frac{1}{2}(3x^2-1)$$ $$P_3=\\frac{1}{2}(5x^3-3x)$$ $$P_4=\\frac{1}{8}(35x^4-30x^2+3)$$ $$P_5=\\frac{1}{8}(63x^5-70x^3+15x)$$ $$P_6=\\frac{1}{16}(231x^6-315x^4+105x^2-5)$$"
   ]
  },
  {
   "cell_type": "markdown",
   "metadata": {},
   "source": [
    "Using the information collected in this problem and in problem 2 we see that:\n",
    "\n",
    "$$P_0=1=f_0$$\n",
    "$$P_1=x=f_1$$ \n",
    "$$P_2=\\frac{1}{2}(3x^2-1)=\\frac{3}{2}x^2-\\frac{1}{2}=f_2$$\n",
    "$$P_3=\\frac{1}{2}(5x^3-3x)=\\frac{5}{2}x^3-\\frac{3}{2}x=f_3$$\n",
    "$$P_4=\\frac{1}{8}(35x^4-30x^2+3)=\\frac{35}{8}*x^4-\\frac{15}{4}x^2+\\frac{3}{8}=f_4$$\n",
    "$$P_5=\\frac{1}{8}(63x^5-70x^3+15x)=\\frac{63}{8}x^5-\\frac{35}{4}x^3+\\frac{15}{8}x=f_5$$\n",
    "$$P_6=\\frac{1}{16}(231x^6-315x^4+105x^2-5)=\\frac{231}{16}x^6-\\frac{315}{16}x^4+\\frac{105}{16}x^2-\\frac{5}{16}=f_6$$"
   ]
  },
  {
   "cell_type": "markdown",
   "metadata": {},
   "source": [
    "10. Curiosity Element"
   ]
  },
  {
   "cell_type": "markdown",
   "metadata": {},
   "source": [
    "For my curiosity element I wanted to look at how calculus is used in Chemistry. As a chemistry major this is pretty important to me and I wanted to look at applications for this calculus that would be useful to me.\n",
    "\n",
    "Calculus is used with a lot of the data analysis within chemistry but first I want to look at physical chemistry. \n",
    "\n",
    "Physical Chemistry uses linear algebra, multivariable, calculus, and limits. In particular when working with thermodynamics and kinetics (a class I will be taking next semester). Because most of the math that must be done for the semester is in partial derivatives, calculus knowledge is very important. \n",
    "\n",
    "Next, Analytical chemistry uses calculus to evaluate and predict pH concentrations. As well as using the Nernst-Planck equation. \n",
    "\n",
    "I'm going to look at the Nernst-Planck equation here and you'll see that derivatives are used a lot. "
   ]
  },
  {
   "cell_type": "markdown",
   "metadata": {},
   "source": [
    "This equation is $$\\frac{\\partial c}{\\partial t}= -\\nabla *J$$\n",
    "\n",
    "With $$J=-\\left[D\\nabla c-uc+\\frac{Dze}{k_BT}c(\\nabla\\phi+\\frac{\\partial A}{\\partial t})\\right]$$\n",
    "With this being the change in the concentration with respect to time with J being the diffusion flux density. This equation describes the flux of ions under the influcene of the concentration gradient and the electric field.\n",
    "\n",
    "This equation is the derivative to Fick's Law of diffusion and so this is a great example of how derivates are used in chemistry."
   ]
  },
  {
   "cell_type": "markdown",
   "metadata": {},
   "source": [
    "Differential equations are also used when describing and predicting how chemical reactions proceed. There are many first order differential equations and variations of them. Physical chemistry uses second order differential equations as well. \n",
    "\n",
    "One thing that I have used in my chemistry laboratory work is regression analysis. Regression analysis is based in calculus and is something that I plan on using going forward. Linear regression uses first order differential equations and power series to solve machine learning problems. \n",
    "\n",
    "These are all ways that I can use calculus in chemistry."
   ]
  },
  {
   "cell_type": "markdown",
   "metadata": {},
   "source": [
    "A bad calculus joke for you!!\n",
    "\n",
    "A guy gets on a bus and starts threatening everybody: \"I'll integrate you! I'll differentiate you!\" So everybody gets scared and runs away. Only one person stays. The guy comes up to him and says: \"Aren't you scared, I'll integrate you, I'll differentiate you!\" And the other guy says: \"No, I am not scared, I am $e^x$.\"\n"
   ]
  },
  {
   "cell_type": "code",
   "execution_count": null,
   "metadata": {},
   "outputs": [],
   "source": []
  }
 ],
 "metadata": {
  "kernelspec": {
   "display_name": "Python 3",
   "language": "python",
   "name": "python3"
  },
  "language_info": {
   "codemirror_mode": {
    "name": "ipython",
    "version": 3
   },
   "file_extension": ".py",
   "mimetype": "text/x-python",
   "name": "python",
   "nbconvert_exporter": "python",
   "pygments_lexer": "ipython3",
   "version": "3.7.3"
  }
 },
 "nbformat": 4,
 "nbformat_minor": 2
}
